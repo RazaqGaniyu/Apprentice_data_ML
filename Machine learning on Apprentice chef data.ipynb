{
 "cells": [
  {
   "cell_type": "markdown",
   "id": "e0777033",
   "metadata": {},
   "source": [
    " Apprentice Chef Assignment"
   ]
  },
  {
   "cell_type": "code",
   "execution_count": 622,
   "id": "6af5b378",
   "metadata": {},
   "outputs": [
    {
     "data": {
      "text/html": [
       "<div>\n",
       "<style scoped>\n",
       "    .dataframe tbody tr th:only-of-type {\n",
       "        vertical-align: middle;\n",
       "    }\n",
       "\n",
       "    .dataframe tbody tr th {\n",
       "        vertical-align: top;\n",
       "    }\n",
       "\n",
       "    .dataframe thead th {\n",
       "        text-align: right;\n",
       "    }\n",
       "</style>\n",
       "<table border=\"1\" class=\"dataframe\">\n",
       "  <thead>\n",
       "    <tr style=\"text-align: right;\">\n",
       "      <th></th>\n",
       "      <th>REVENUE</th>\n",
       "      <th>CROSS_SELL_SUCCESS</th>\n",
       "      <th>NAME</th>\n",
       "      <th>EMAIL</th>\n",
       "      <th>FIRST_NAME</th>\n",
       "      <th>FAMILY_NAME</th>\n",
       "      <th>TOTAL_MEALS_ORDERED</th>\n",
       "      <th>UNIQUE_MEALS_PURCH</th>\n",
       "      <th>CONTACTS_W_CUSTOMER_SERVICE</th>\n",
       "      <th>PRODUCT_CATEGORIES_VIEWED</th>\n",
       "      <th>AVG_TIME_PER_SITE_VISIT</th>\n",
       "      <th>MOBILE_NUMBER</th>\n",
       "      <th>CANCELLATIONS_BEFORE_NOON</th>\n",
       "      <th>CANCELLATIONS_AFTER_NOON</th>\n",
       "      <th>TASTES_AND_PREFERENCES</th>\n",
       "      <th>PC_LOGINS</th>\n",
       "      <th>MOBILE_LOGINS</th>\n",
       "      <th>WEEKLY_PLAN</th>\n",
       "      <th>EARLY_DELIVERIES</th>\n",
       "      <th>LATE_DELIVERIES</th>\n",
       "      <th>PACKAGE_LOCKER</th>\n",
       "      <th>REFRIGERATED_LOCKER</th>\n",
       "      <th>AVG_PREP_VID_TIME</th>\n",
       "      <th>LARGEST_ORDER_SIZE</th>\n",
       "      <th>MASTER_CLASSES_ATTENDED</th>\n",
       "      <th>MEDIAN_MEAL_RATING</th>\n",
       "      <th>AVG_CLICKS_PER_VISIT</th>\n",
       "      <th>TOTAL_PHOTOS_VIEWED</th>\n",
       "    </tr>\n",
       "  </thead>\n",
       "  <tbody>\n",
       "    <tr>\n",
       "      <th>0</th>\n",
       "      <td>393.0</td>\n",
       "      <td>1</td>\n",
       "      <td>Saathos</td>\n",
       "      <td>saathos@unitedhealth.com</td>\n",
       "      <td>Saathos</td>\n",
       "      <td>Saathos</td>\n",
       "      <td>14</td>\n",
       "      <td>6</td>\n",
       "      <td>12</td>\n",
       "      <td>10</td>\n",
       "      <td>48.00</td>\n",
       "      <td>1</td>\n",
       "      <td>3</td>\n",
       "      <td>1</td>\n",
       "      <td>1</td>\n",
       "      <td>5</td>\n",
       "      <td>2</td>\n",
       "      <td>0</td>\n",
       "      <td>0</td>\n",
       "      <td>2</td>\n",
       "      <td>0</td>\n",
       "      <td>0</td>\n",
       "      <td>33.4</td>\n",
       "      <td>1</td>\n",
       "      <td>0</td>\n",
       "      <td>1</td>\n",
       "      <td>17</td>\n",
       "      <td>0</td>\n",
       "    </tr>\n",
       "    <tr>\n",
       "      <th>1</th>\n",
       "      <td>1365.0</td>\n",
       "      <td>1</td>\n",
       "      <td>Alysanne Osgrey</td>\n",
       "      <td>alysanne.osgrey@ge.org</td>\n",
       "      <td>Alysanne</td>\n",
       "      <td>Osgrey</td>\n",
       "      <td>87</td>\n",
       "      <td>3</td>\n",
       "      <td>8</td>\n",
       "      <td>8</td>\n",
       "      <td>40.35</td>\n",
       "      <td>1</td>\n",
       "      <td>0</td>\n",
       "      <td>0</td>\n",
       "      <td>1</td>\n",
       "      <td>5</td>\n",
       "      <td>1</td>\n",
       "      <td>12</td>\n",
       "      <td>0</td>\n",
       "      <td>2</td>\n",
       "      <td>0</td>\n",
       "      <td>0</td>\n",
       "      <td>84.8</td>\n",
       "      <td>1</td>\n",
       "      <td>0</td>\n",
       "      <td>3</td>\n",
       "      <td>13</td>\n",
       "      <td>170</td>\n",
       "    </tr>\n",
       "    <tr>\n",
       "      <th>2</th>\n",
       "      <td>800.0</td>\n",
       "      <td>1</td>\n",
       "      <td>Edwyd Fossoway</td>\n",
       "      <td>edwyd.fossoway@jnj.com</td>\n",
       "      <td>Edwyd</td>\n",
       "      <td>Fossoway</td>\n",
       "      <td>15</td>\n",
       "      <td>7</td>\n",
       "      <td>11</td>\n",
       "      <td>5</td>\n",
       "      <td>19.77</td>\n",
       "      <td>1</td>\n",
       "      <td>3</td>\n",
       "      <td>0</td>\n",
       "      <td>1</td>\n",
       "      <td>6</td>\n",
       "      <td>1</td>\n",
       "      <td>1</td>\n",
       "      <td>0</td>\n",
       "      <td>1</td>\n",
       "      <td>0</td>\n",
       "      <td>0</td>\n",
       "      <td>63.0</td>\n",
       "      <td>1</td>\n",
       "      <td>0</td>\n",
       "      <td>2</td>\n",
       "      <td>16</td>\n",
       "      <td>0</td>\n",
       "    </tr>\n",
       "    <tr>\n",
       "      <th>3</th>\n",
       "      <td>600.0</td>\n",
       "      <td>1</td>\n",
       "      <td>Eleyna Westerling</td>\n",
       "      <td>eleyna.westerling@ge.org</td>\n",
       "      <td>Eleyna</td>\n",
       "      <td>Westerling</td>\n",
       "      <td>13</td>\n",
       "      <td>6</td>\n",
       "      <td>11</td>\n",
       "      <td>5</td>\n",
       "      <td>90.00</td>\n",
       "      <td>1</td>\n",
       "      <td>2</td>\n",
       "      <td>0</td>\n",
       "      <td>1</td>\n",
       "      <td>6</td>\n",
       "      <td>1</td>\n",
       "      <td>14</td>\n",
       "      <td>0</td>\n",
       "      <td>3</td>\n",
       "      <td>0</td>\n",
       "      <td>0</td>\n",
       "      <td>43.8</td>\n",
       "      <td>1</td>\n",
       "      <td>0</td>\n",
       "      <td>2</td>\n",
       "      <td>14</td>\n",
       "      <td>0</td>\n",
       "    </tr>\n",
       "    <tr>\n",
       "      <th>4</th>\n",
       "      <td>1490.0</td>\n",
       "      <td>1</td>\n",
       "      <td>Elyn Norridge</td>\n",
       "      <td>elyn.norridge@jnj.com</td>\n",
       "      <td>Elyn</td>\n",
       "      <td>Norridge</td>\n",
       "      <td>47</td>\n",
       "      <td>8</td>\n",
       "      <td>6</td>\n",
       "      <td>10</td>\n",
       "      <td>40.38</td>\n",
       "      <td>1</td>\n",
       "      <td>0</td>\n",
       "      <td>0</td>\n",
       "      <td>0</td>\n",
       "      <td>5</td>\n",
       "      <td>1</td>\n",
       "      <td>5</td>\n",
       "      <td>0</td>\n",
       "      <td>8</td>\n",
       "      <td>0</td>\n",
       "      <td>0</td>\n",
       "      <td>84.8</td>\n",
       "      <td>1</td>\n",
       "      <td>1</td>\n",
       "      <td>3</td>\n",
       "      <td>12</td>\n",
       "      <td>205</td>\n",
       "    </tr>\n",
       "  </tbody>\n",
       "</table>\n",
       "</div>"
      ],
      "text/plain": [
       "   REVENUE  CROSS_SELL_SUCCESS               NAME                     EMAIL FIRST_NAME FAMILY_NAME  TOTAL_MEALS_ORDERED  UNIQUE_MEALS_PURCH  CONTACTS_W_CUSTOMER_SERVICE  PRODUCT_CATEGORIES_VIEWED  AVG_TIME_PER_SITE_VISIT  MOBILE_NUMBER  CANCELLATIONS_BEFORE_NOON  CANCELLATIONS_AFTER_NOON  TASTES_AND_PREFERENCES  PC_LOGINS  MOBILE_LOGINS  WEEKLY_PLAN  EARLY_DELIVERIES  LATE_DELIVERIES  PACKAGE_LOCKER  REFRIGERATED_LOCKER  AVG_PREP_VID_TIME  LARGEST_ORDER_SIZE  MASTER_CLASSES_ATTENDED  MEDIAN_MEAL_RATING  AVG_CLICKS_PER_VISIT  TOTAL_PHOTOS_VIEWED\n",
       "0    393.0                   1            Saathos  saathos@unitedhealth.com    Saathos     Saathos                   14                   6                           12                         10                    48.00              1                          3                         1                       1          5              2            0                 0                2               0                    0               33.4                   1                        0                   1                    17                    0\n",
       "1   1365.0                   1    Alysanne Osgrey    alysanne.osgrey@ge.org   Alysanne      Osgrey                   87                   3                            8                          8                    40.35              1                          0                         0                       1          5              1           12                 0                2               0                    0               84.8                   1                        0                   3                    13                  170\n",
       "2    800.0                   1     Edwyd Fossoway    edwyd.fossoway@jnj.com      Edwyd    Fossoway                   15                   7                           11                          5                    19.77              1                          3                         0                       1          6              1            1                 0                1               0                    0               63.0                   1                        0                   2                    16                    0\n",
       "3    600.0                   1  Eleyna Westerling  eleyna.westerling@ge.org     Eleyna  Westerling                   13                   6                           11                          5                    90.00              1                          2                         0                       1          6              1           14                 0                3               0                    0               43.8                   1                        0                   2                    14                    0\n",
       "4   1490.0                   1      Elyn Norridge     elyn.norridge@jnj.com       Elyn    Norridge                   47                   8                            6                         10                    40.38              1                          0                         0                       0          5              1            5                 0                8               0                    0               84.8                   1                        1                   3                    12                  205"
      ]
     },
     "execution_count": 622,
     "metadata": {},
     "output_type": "execute_result"
    }
   ],
   "source": [
    "# importing libraries\n",
    "import pandas as pd # data science essentials\n",
    "import matplotlib.pyplot as plt # essential graphical output\n",
    "import seaborn as sns # enhanced graphical output\n",
    "import statsmodels.formula.api as smf # predictive modeling with nice output\n",
    "from sklearn.model_selection import train_test_split # train/test split\n",
    "import sklearn.linear_model # linear modeling in scikit-learn\n",
    "from sklearn.tree     import DecisionTreeRegressor     # regression trees\n",
    "from sklearn.ensemble import RandomForestRegressor     # random forest\n",
    "from sklearn.ensemble import GradientBoostingRegressor # gbm\n",
    "\n",
    "\n",
    "\n",
    "# setting pandas print options\n",
    "pd.set_option('display.max_rows', 500)\n",
    "pd.set_option('display.max_columns', 500)\n",
    "pd.set_option('display.width', 1000)\n",
    "\n",
    "\n",
    "# specifying file name\n",
    "file = './Apprentice_Chef_Dataset.xlsx'\n",
    "\n",
    "\n",
    "# reading the file into Python\n",
    "apprentice_chef = pd.read_excel(io = file,\n",
    "                       header = 0)\n",
    "\n",
    "\n",
    "# outputting the first ten rows of the dataset\n",
    "apprentice_chef.head(5)\n"
   ]
  },
  {
   "cell_type": "markdown",
   "id": "cdc1f5ff",
   "metadata": {},
   "source": [
    "Exploratory Data Analysis"
   ]
  },
  {
   "cell_type": "code",
   "execution_count": 623,
   "id": "ab4f3a01",
   "metadata": {},
   "outputs": [
    {
     "name": "stdout",
     "output_type": "stream",
     "text": [
      "\n",
      "Size of Original Dataset\n",
      "------------------------\n",
      "Observations: 1946\n",
      "Features:     28\n",
      "\n"
     ]
    }
   ],
   "source": [
    "# formatting and printing the dimensions of the dataset\n",
    "print(f\"\"\"\n",
    "Size of Original Dataset\n",
    "------------------------\n",
    "Observations: {apprentice_chef.shape[0]}\n",
    "Features:     {apprentice_chef.shape[1]}\n",
    "\"\"\")"
   ]
  },
  {
   "cell_type": "code",
   "execution_count": 624,
   "id": "24db1cc9",
   "metadata": {},
   "outputs": [
    {
     "name": "stdout",
     "output_type": "stream",
     "text": [
      "REVENUE\n",
      "CROSS_SELL_SUCCESS\n",
      "NAME\n",
      "EMAIL\n",
      "FIRST_NAME\n",
      "FAMILY_NAME\n",
      "TOTAL_MEALS_ORDERED\n",
      "UNIQUE_MEALS_PURCH\n",
      "CONTACTS_W_CUSTOMER_SERVICE\n",
      "PRODUCT_CATEGORIES_VIEWED\n",
      "AVG_TIME_PER_SITE_VISIT\n",
      "MOBILE_NUMBER\n",
      "CANCELLATIONS_BEFORE_NOON\n",
      "CANCELLATIONS_AFTER_NOON\n",
      "TASTES_AND_PREFERENCES\n",
      "PC_LOGINS\n",
      "MOBILE_LOGINS\n",
      "WEEKLY_PLAN\n",
      "EARLY_DELIVERIES\n",
      "LATE_DELIVERIES\n",
      "PACKAGE_LOCKER\n",
      "REFRIGERATED_LOCKER\n",
      "AVG_PREP_VID_TIME\n",
      "LARGEST_ORDER_SIZE\n",
      "MASTER_CLASSES_ATTENDED\n",
      "MEDIAN_MEAL_RATING\n",
      "AVG_CLICKS_PER_VISIT\n",
      "TOTAL_PHOTOS_VIEWED\n"
     ]
    }
   ],
   "source": [
    "# looping to print column names one by one\n",
    "for data in apprentice_chef:\n",
    "    print(data) "
   ]
  },
  {
   "cell_type": "code",
   "execution_count": 625,
   "id": "b81ff838",
   "metadata": {},
   "outputs": [
    {
     "name": "stdout",
     "output_type": "stream",
     "text": [
      "<class 'pandas.core.frame.DataFrame'>\n",
      "RangeIndex: 1946 entries, 0 to 1945\n",
      "Data columns (total 28 columns):\n",
      " #   Column                       Non-Null Count  Dtype  \n",
      "---  ------                       --------------  -----  \n",
      " 0   REVENUE                      1946 non-null   float64\n",
      " 1   CROSS_SELL_SUCCESS           1946 non-null   int64  \n",
      " 2   NAME                         1946 non-null   object \n",
      " 3   EMAIL                        1946 non-null   object \n",
      " 4   FIRST_NAME                   1946 non-null   object \n",
      " 5   FAMILY_NAME                  1899 non-null   object \n",
      " 6   TOTAL_MEALS_ORDERED          1946 non-null   int64  \n",
      " 7   UNIQUE_MEALS_PURCH           1946 non-null   int64  \n",
      " 8   CONTACTS_W_CUSTOMER_SERVICE  1946 non-null   int64  \n",
      " 9   PRODUCT_CATEGORIES_VIEWED    1946 non-null   int64  \n",
      " 10  AVG_TIME_PER_SITE_VISIT      1946 non-null   float64\n",
      " 11  MOBILE_NUMBER                1946 non-null   int64  \n",
      " 12  CANCELLATIONS_BEFORE_NOON    1946 non-null   int64  \n",
      " 13  CANCELLATIONS_AFTER_NOON     1946 non-null   int64  \n",
      " 14  TASTES_AND_PREFERENCES       1946 non-null   int64  \n",
      " 15  PC_LOGINS                    1946 non-null   int64  \n",
      " 16  MOBILE_LOGINS                1946 non-null   int64  \n",
      " 17  WEEKLY_PLAN                  1946 non-null   int64  \n",
      " 18  EARLY_DELIVERIES             1946 non-null   int64  \n",
      " 19  LATE_DELIVERIES              1946 non-null   int64  \n",
      " 20  PACKAGE_LOCKER               1946 non-null   int64  \n",
      " 21  REFRIGERATED_LOCKER          1946 non-null   int64  \n",
      " 22  AVG_PREP_VID_TIME            1946 non-null   float64\n",
      " 23  LARGEST_ORDER_SIZE           1946 non-null   int64  \n",
      " 24  MASTER_CLASSES_ATTENDED      1946 non-null   int64  \n",
      " 25  MEDIAN_MEAL_RATING           1946 non-null   int64  \n",
      " 26  AVG_CLICKS_PER_VISIT         1946 non-null   int64  \n",
      " 27  TOTAL_PHOTOS_VIEWED          1946 non-null   int64  \n",
      "dtypes: float64(3), int64(21), object(4)\n",
      "memory usage: 425.8+ KB\n"
     ]
    }
   ],
   "source": [
    "# getting information about each variable\n",
    "apprentice_chef.info(verbose = True)"
   ]
  },
  {
   "cell_type": "markdown",
   "id": "7b8b3792",
   "metadata": {},
   "source": [
    "Only family name has missing values"
   ]
  },
  {
   "cell_type": "code",
   "execution_count": 626,
   "id": "95983443",
   "metadata": {},
   "outputs": [
    {
     "name": "stdout",
     "output_type": "stream",
     "text": [
      "<class 'pandas.core.frame.DataFrame'>\n",
      "RangeIndex: 1946 entries, 0 to 1945\n",
      "Data columns (total 28 columns):\n",
      " #   Column                       Non-Null Count  Dtype  \n",
      "---  ------                       --------------  -----  \n",
      " 0   REVENUE                      1946 non-null   float64\n",
      " 1   CROSS_SELL_SUCCESS           1946 non-null   int64  \n",
      " 2   NAME                         1946 non-null   object \n",
      " 3   EMAIL                        1946 non-null   object \n",
      " 4   FIRST_NAME                   1946 non-null   object \n",
      " 5   FAMILY_NAME                  1899 non-null   object \n",
      " 6   TOTAL_MEALS_ORDERED          1946 non-null   int64  \n",
      " 7   UNIQUE_MEALS_PURCH           1946 non-null   int64  \n",
      " 8   CONTACTS_W_CUSTOMER_SERVICE  1946 non-null   int64  \n",
      " 9   PRODUCT_CATEGORIES_VIEWED    1946 non-null   int64  \n",
      " 10  AVG_TIME_PER_SITE_VISIT      1946 non-null   float64\n",
      " 11  MOBILE_NUMBER                1946 non-null   int64  \n",
      " 12  CANCELLATIONS_BEFORE_NOON    1946 non-null   int64  \n",
      " 13  CANCELLATIONS_AFTER_NOON     1946 non-null   int64  \n",
      " 14  TASTES_AND_PREFERENCES       1946 non-null   int64  \n",
      " 15  PC_LOGINS                    1946 non-null   int64  \n",
      " 16  MOBILE_LOGINS                1946 non-null   int64  \n",
      " 17  WEEKLY_PLAN                  1946 non-null   int64  \n",
      " 18  EARLY_DELIVERIES             1946 non-null   int64  \n",
      " 19  LATE_DELIVERIES              1946 non-null   int64  \n",
      " 20  PACKAGE_LOCKER               1946 non-null   int64  \n",
      " 21  REFRIGERATED_LOCKER          1946 non-null   int64  \n",
      " 22  AVG_PREP_VID_TIME            1946 non-null   float64\n",
      " 23  AVG_MEALS_ORD_PER_CUSTOMER   1946 non-null   int64  \n",
      " 24  MASTER_CLASSES_ATTENDED      1946 non-null   int64  \n",
      " 25  MEDIAN_MEAL_RATING           1946 non-null   int64  \n",
      " 26  AVG_CLICKS_PER_VISIT         1946 non-null   int64  \n",
      " 27  TOTAL_PHOTOS_VIEWED          1946 non-null   int64  \n",
      "dtypes: float64(3), int64(21), object(4)\n",
      "memory usage: 425.8+ KB\n"
     ]
    }
   ],
   "source": [
    "#Renaming column header 'Largest_order_size' which was mislabelled\n",
    "apprentice_chef.rename(columns = {'LARGEST_ORDER_SIZE': 'AVG_MEALS_ORD_PER_CUSTOMER'}, inplace = True)\n",
    "apprentice_chef.info()"
   ]
  },
  {
   "cell_type": "markdown",
   "id": "b08d53c8",
   "metadata": {},
   "source": [
    "Identifying the data types in apprentice_chef dataset "
   ]
  },
  {
   "cell_type": "raw",
   "id": "1e7e14f2",
   "metadata": {},
   "source": [
    "CONTINUOUS\n",
    "----------\n",
    "REVENUE\n",
    "AVG_TIME_PER_SITE_VISIT\n",
    "AVG_PREP_VID_TIME\n",
    "\n",
    "\n",
    "INTERVAL/COUNT\n",
    "--------------\n",
    "TOTAL_MEALS_ORDERED\n",
    "UNIQUE_MEALS_PURCH\n",
    "CONTACTS_W_CUSTOMER_SERVICE\n",
    "PRODUCT_CATEGORIES_VIEWED\n",
    "CANCELLATIONS_BEFORE_NOON\n",
    "CANCELLATIONS_AFTER_NOON\n",
    "TASTES_AND_PREFERENCES\n",
    "PC_LOGINS\n",
    "MOBILE_LOGINS\n",
    "WEEKLY_PLAN\n",
    "EARLY_DELIVERIES\n",
    "LATE_DELIVERIES\n",
    "PACKAGE_LOCKER\n",
    "REFRIGERATED_LOCKER\n",
    "AVG_MEALS_ORD_PER_CUSTOMER\n",
    "MASTER_CLASSES_ATTENDED\n",
    "MEDIAN_MEAL_RATING\n",
    "AVG_CLICKS_PER_VISIT\n",
    "TOTAL_PHOTOS_VIEWED\n",
    "CROSS_SELL_SUCCESS\n",
    "\n",
    "\n",
    "CATEGORICAL/OTHER\n",
    "-----------------\n",
    "NAME\n",
    "EMAIL\n",
    "FIRST_NAME\n",
    "FAMILY_NAME\n",
    "MOBILE_NUMBER\n",
    "\n"
   ]
  },
  {
   "cell_type": "markdown",
   "id": "78a11de9",
   "metadata": {},
   "source": [
    "\n",
    "Develop a histogram to analyze the distribution of the Y-variable.\n"
   ]
  },
  {
   "cell_type": "code",
   "execution_count": 627,
   "id": "2d06e5cc",
   "metadata": {},
   "outputs": [
    {
     "data": {
      "image/png": "[encoded data removed]",
      "text/plain": [
       "<Figure size 432x288 with 1 Axes>"
      ]
     },
     "metadata": {
      "needs_background": "light"
     },
     "output_type": "display_data"
    }
   ],
   "source": [
    "# developing a histogram for y-variable using HISTPLOT\n",
    "sns.histplot(data  = apprentice_chef,\n",
    "         x     = 'REVENUE',\n",
    "        kde    = True)\n",
    "\n",
    "\n",
    "# title and axis labels\n",
    "plt.title(label   = \"Original Distribution of Apprentice_chef Revenue\")\n",
    "plt.xlabel(xlabel = \"Revenue\") # avoiding using dataset labels\n",
    "plt.ylabel(ylabel = \"Count\")\n",
    "\n",
    "\n",
    "# displaying the histogram\n",
    "plt.show()"
   ]
  },
  {
   "cell_type": "markdown",
   "id": "5cc5fdc9",
   "metadata": {},
   "source": [
    "As seen above Revenue is positively skewed and there is need to log transform \n"
   ]
  },
  {
   "cell_type": "code",
   "execution_count": 628,
   "id": "d8f2b2a3",
   "metadata": {},
   "outputs": [],
   "source": [
    "# log transforming Sale_Price and saving it to the dataset\n",
    "apprentice_chef['LOG_REVENUE'] = np.log(apprentice_chef['REVENUE'])\n"
   ]
  },
  {
   "cell_type": "code",
   "execution_count": 629,
   "id": "ec8b14ef",
   "metadata": {},
   "outputs": [
    {
     "data": {
      "image/png": "[encoded data removed]",
      "text/plain": [
       "<Figure size 432x288 with 1 Axes>"
      ]
     },
     "metadata": {
      "needs_background": "light"
     },
     "output_type": "display_data"
    }
   ],
   "source": [
    "# developing a histogram using HISTPLOT\n",
    "sns.histplot(data = apprentice_chef,\n",
    "          x       = 'LOG_REVENUE',\n",
    "          kde     = True)\n",
    "\n",
    "\n",
    "# title and axis labels\n",
    "plt.title(label   = \"Logarithmic Distribution of Apprentice Chef Revenue\")\n",
    "plt.xlabel(xlabel = \"Revenue\") # avoiding using dataset labels\n",
    "plt.ylabel(ylabel = \"Count\")\n",
    "\n",
    "# displaying the histogram\n",
    "plt.show()"
   ]
  },
  {
   "cell_type": "code",
   "execution_count": 630,
   "id": "0c5a9008",
   "metadata": {},
   "outputs": [
    {
     "data": {
      "text/html": [
       "<div>\n",
       "<style scoped>\n",
       "    .dataframe tbody tr th:only-of-type {\n",
       "        vertical-align: middle;\n",
       "    }\n",
       "\n",
       "    .dataframe tbody tr th {\n",
       "        vertical-align: top;\n",
       "    }\n",
       "\n",
       "    .dataframe thead th {\n",
       "        text-align: right;\n",
       "    }\n",
       "</style>\n",
       "<table border=\"1\" class=\"dataframe\">\n",
       "  <thead>\n",
       "    <tr style=\"text-align: right;\">\n",
       "      <th></th>\n",
       "      <th>REVENUE</th>\n",
       "      <th>CROSS_SELL_SUCCESS</th>\n",
       "      <th>TOTAL_MEALS_ORDERED</th>\n",
       "      <th>UNIQUE_MEALS_PURCH</th>\n",
       "      <th>CONTACTS_W_CUSTOMER_SERVICE</th>\n",
       "      <th>PRODUCT_CATEGORIES_VIEWED</th>\n",
       "      <th>AVG_TIME_PER_SITE_VISIT</th>\n",
       "      <th>MOBILE_NUMBER</th>\n",
       "      <th>CANCELLATIONS_BEFORE_NOON</th>\n",
       "      <th>CANCELLATIONS_AFTER_NOON</th>\n",
       "      <th>TASTES_AND_PREFERENCES</th>\n",
       "      <th>PC_LOGINS</th>\n",
       "      <th>MOBILE_LOGINS</th>\n",
       "      <th>WEEKLY_PLAN</th>\n",
       "      <th>EARLY_DELIVERIES</th>\n",
       "      <th>LATE_DELIVERIES</th>\n",
       "      <th>PACKAGE_LOCKER</th>\n",
       "      <th>REFRIGERATED_LOCKER</th>\n",
       "      <th>AVG_PREP_VID_TIME</th>\n",
       "      <th>AVG_MEALS_ORD_PER_CUSTOMER</th>\n",
       "      <th>MASTER_CLASSES_ATTENDED</th>\n",
       "      <th>MEDIAN_MEAL_RATING</th>\n",
       "      <th>AVG_CLICKS_PER_VISIT</th>\n",
       "      <th>TOTAL_PHOTOS_VIEWED</th>\n",
       "      <th>LOG_REVENUE</th>\n",
       "    </tr>\n",
       "  </thead>\n",
       "  <tbody>\n",
       "    <tr>\n",
       "      <th>count</th>\n",
       "      <td>1946.00</td>\n",
       "      <td>1946.00</td>\n",
       "      <td>1946.00</td>\n",
       "      <td>1946.0</td>\n",
       "      <td>1946.00</td>\n",
       "      <td>1946.00</td>\n",
       "      <td>1946.00</td>\n",
       "      <td>1946.00</td>\n",
       "      <td>1946.00</td>\n",
       "      <td>1946.00</td>\n",
       "      <td>1946.00</td>\n",
       "      <td>1946.00</td>\n",
       "      <td>1946.00</td>\n",
       "      <td>1946.00</td>\n",
       "      <td>1946.00</td>\n",
       "      <td>1946.00</td>\n",
       "      <td>1946.00</td>\n",
       "      <td>1946.00</td>\n",
       "      <td>1946.00</td>\n",
       "      <td>1946.00</td>\n",
       "      <td>1946.00</td>\n",
       "      <td>1946.00</td>\n",
       "      <td>1946.00</td>\n",
       "      <td>1946.00</td>\n",
       "      <td>1946.00</td>\n",
       "    </tr>\n",
       "    <tr>\n",
       "      <th>mean</th>\n",
       "      <td>2107.29</td>\n",
       "      <td>0.68</td>\n",
       "      <td>74.63</td>\n",
       "      <td>4.9</td>\n",
       "      <td>6.98</td>\n",
       "      <td>5.38</td>\n",
       "      <td>99.60</td>\n",
       "      <td>0.88</td>\n",
       "      <td>1.40</td>\n",
       "      <td>0.17</td>\n",
       "      <td>0.71</td>\n",
       "      <td>5.52</td>\n",
       "      <td>1.48</td>\n",
       "      <td>11.33</td>\n",
       "      <td>1.49</td>\n",
       "      <td>2.97</td>\n",
       "      <td>0.36</td>\n",
       "      <td>0.11</td>\n",
       "      <td>150.56</td>\n",
       "      <td>4.44</td>\n",
       "      <td>0.60</td>\n",
       "      <td>2.79</td>\n",
       "      <td>13.51</td>\n",
       "      <td>106.43</td>\n",
       "      <td>7.53</td>\n",
       "    </tr>\n",
       "    <tr>\n",
       "      <th>std</th>\n",
       "      <td>1138.29</td>\n",
       "      <td>0.47</td>\n",
       "      <td>55.31</td>\n",
       "      <td>2.5</td>\n",
       "      <td>2.28</td>\n",
       "      <td>3.04</td>\n",
       "      <td>62.34</td>\n",
       "      <td>0.33</td>\n",
       "      <td>1.55</td>\n",
       "      <td>0.43</td>\n",
       "      <td>0.45</td>\n",
       "      <td>0.58</td>\n",
       "      <td>0.53</td>\n",
       "      <td>13.57</td>\n",
       "      <td>2.32</td>\n",
       "      <td>2.74</td>\n",
       "      <td>0.48</td>\n",
       "      <td>0.32</td>\n",
       "      <td>49.45</td>\n",
       "      <td>1.55</td>\n",
       "      <td>0.64</td>\n",
       "      <td>0.76</td>\n",
       "      <td>2.33</td>\n",
       "      <td>181.01</td>\n",
       "      <td>0.49</td>\n",
       "    </tr>\n",
       "    <tr>\n",
       "      <th>min</th>\n",
       "      <td>131.00</td>\n",
       "      <td>0.00</td>\n",
       "      <td>11.00</td>\n",
       "      <td>1.0</td>\n",
       "      <td>1.00</td>\n",
       "      <td>1.00</td>\n",
       "      <td>10.33</td>\n",
       "      <td>0.00</td>\n",
       "      <td>0.00</td>\n",
       "      <td>0.00</td>\n",
       "      <td>0.00</td>\n",
       "      <td>4.00</td>\n",
       "      <td>0.00</td>\n",
       "      <td>0.00</td>\n",
       "      <td>0.00</td>\n",
       "      <td>0.00</td>\n",
       "      <td>0.00</td>\n",
       "      <td>0.00</td>\n",
       "      <td>33.40</td>\n",
       "      <td>1.00</td>\n",
       "      <td>0.00</td>\n",
       "      <td>1.00</td>\n",
       "      <td>5.00</td>\n",
       "      <td>0.00</td>\n",
       "      <td>4.88</td>\n",
       "    </tr>\n",
       "    <tr>\n",
       "      <th>25%</th>\n",
       "      <td>1350.00</td>\n",
       "      <td>0.00</td>\n",
       "      <td>39.00</td>\n",
       "      <td>3.0</td>\n",
       "      <td>5.00</td>\n",
       "      <td>3.00</td>\n",
       "      <td>72.00</td>\n",
       "      <td>1.00</td>\n",
       "      <td>0.00</td>\n",
       "      <td>0.00</td>\n",
       "      <td>0.00</td>\n",
       "      <td>5.00</td>\n",
       "      <td>1.00</td>\n",
       "      <td>1.00</td>\n",
       "      <td>0.00</td>\n",
       "      <td>1.00</td>\n",
       "      <td>0.00</td>\n",
       "      <td>0.00</td>\n",
       "      <td>114.40</td>\n",
       "      <td>3.00</td>\n",
       "      <td>0.00</td>\n",
       "      <td>2.00</td>\n",
       "      <td>12.00</td>\n",
       "      <td>0.00</td>\n",
       "      <td>7.21</td>\n",
       "    </tr>\n",
       "    <tr>\n",
       "      <th>50%</th>\n",
       "      <td>1740.00</td>\n",
       "      <td>1.00</td>\n",
       "      <td>60.00</td>\n",
       "      <td>5.0</td>\n",
       "      <td>7.00</td>\n",
       "      <td>5.00</td>\n",
       "      <td>94.16</td>\n",
       "      <td>1.00</td>\n",
       "      <td>1.00</td>\n",
       "      <td>0.00</td>\n",
       "      <td>1.00</td>\n",
       "      <td>6.00</td>\n",
       "      <td>1.00</td>\n",
       "      <td>7.00</td>\n",
       "      <td>0.00</td>\n",
       "      <td>2.00</td>\n",
       "      <td>0.00</td>\n",
       "      <td>0.00</td>\n",
       "      <td>145.60</td>\n",
       "      <td>4.00</td>\n",
       "      <td>1.00</td>\n",
       "      <td>3.00</td>\n",
       "      <td>13.00</td>\n",
       "      <td>0.00</td>\n",
       "      <td>7.46</td>\n",
       "    </tr>\n",
       "    <tr>\n",
       "      <th>75%</th>\n",
       "      <td>2670.00</td>\n",
       "      <td>1.00</td>\n",
       "      <td>95.00</td>\n",
       "      <td>7.0</td>\n",
       "      <td>8.00</td>\n",
       "      <td>8.00</td>\n",
       "      <td>117.29</td>\n",
       "      <td>1.00</td>\n",
       "      <td>2.00</td>\n",
       "      <td>0.00</td>\n",
       "      <td>1.00</td>\n",
       "      <td>6.00</td>\n",
       "      <td>2.00</td>\n",
       "      <td>13.00</td>\n",
       "      <td>3.00</td>\n",
       "      <td>4.00</td>\n",
       "      <td>1.00</td>\n",
       "      <td>0.00</td>\n",
       "      <td>173.78</td>\n",
       "      <td>5.00</td>\n",
       "      <td>1.00</td>\n",
       "      <td>3.00</td>\n",
       "      <td>15.00</td>\n",
       "      <td>174.00</td>\n",
       "      <td>7.89</td>\n",
       "    </tr>\n",
       "    <tr>\n",
       "      <th>max</th>\n",
       "      <td>8793.75</td>\n",
       "      <td>1.00</td>\n",
       "      <td>493.00</td>\n",
       "      <td>19.0</td>\n",
       "      <td>18.00</td>\n",
       "      <td>10.00</td>\n",
       "      <td>1645.60</td>\n",
       "      <td>1.00</td>\n",
       "      <td>13.00</td>\n",
       "      <td>3.00</td>\n",
       "      <td>1.00</td>\n",
       "      <td>7.00</td>\n",
       "      <td>3.00</td>\n",
       "      <td>52.00</td>\n",
       "      <td>9.00</td>\n",
       "      <td>19.00</td>\n",
       "      <td>1.00</td>\n",
       "      <td>1.00</td>\n",
       "      <td>564.20</td>\n",
       "      <td>11.00</td>\n",
       "      <td>3.00</td>\n",
       "      <td>5.00</td>\n",
       "      <td>19.00</td>\n",
       "      <td>1600.00</td>\n",
       "      <td>9.08</td>\n",
       "    </tr>\n",
       "  </tbody>\n",
       "</table>\n",
       "</div>"
      ],
      "text/plain": [
       "       REVENUE  CROSS_SELL_SUCCESS  TOTAL_MEALS_ORDERED  UNIQUE_MEALS_PURCH  CONTACTS_W_CUSTOMER_SERVICE  PRODUCT_CATEGORIES_VIEWED  AVG_TIME_PER_SITE_VISIT  MOBILE_NUMBER  CANCELLATIONS_BEFORE_NOON  CANCELLATIONS_AFTER_NOON  TASTES_AND_PREFERENCES  PC_LOGINS  MOBILE_LOGINS  WEEKLY_PLAN  EARLY_DELIVERIES  LATE_DELIVERIES  PACKAGE_LOCKER  REFRIGERATED_LOCKER  AVG_PREP_VID_TIME  AVG_MEALS_ORD_PER_CUSTOMER  MASTER_CLASSES_ATTENDED  MEDIAN_MEAL_RATING  AVG_CLICKS_PER_VISIT  TOTAL_PHOTOS_VIEWED  LOG_REVENUE\n",
       "count  1946.00             1946.00              1946.00              1946.0                      1946.00                    1946.00                  1946.00        1946.00                    1946.00                   1946.00                 1946.00    1946.00        1946.00      1946.00           1946.00          1946.00         1946.00              1946.00            1946.00                     1946.00                  1946.00             1946.00               1946.00              1946.00      1946.00\n",
       "mean   2107.29                0.68                74.63                 4.9                         6.98                       5.38                    99.60           0.88                       1.40                      0.17                    0.71       5.52           1.48        11.33              1.49             2.97            0.36                 0.11             150.56                        4.44                     0.60                2.79                 13.51               106.43         7.53\n",
       "std    1138.29                0.47                55.31                 2.5                         2.28                       3.04                    62.34           0.33                       1.55                      0.43                    0.45       0.58           0.53        13.57              2.32             2.74            0.48                 0.32              49.45                        1.55                     0.64                0.76                  2.33               181.01         0.49\n",
       "min     131.00                0.00                11.00                 1.0                         1.00                       1.00                    10.33           0.00                       0.00                      0.00                    0.00       4.00           0.00         0.00              0.00             0.00            0.00                 0.00              33.40                        1.00                     0.00                1.00                  5.00                 0.00         4.88\n",
       "25%    1350.00                0.00                39.00                 3.0                         5.00                       3.00                    72.00           1.00                       0.00                      0.00                    0.00       5.00           1.00         1.00              0.00             1.00            0.00                 0.00             114.40                        3.00                     0.00                2.00                 12.00                 0.00         7.21\n",
       "50%    1740.00                1.00                60.00                 5.0                         7.00                       5.00                    94.16           1.00                       1.00                      0.00                    1.00       6.00           1.00         7.00              0.00             2.00            0.00                 0.00             145.60                        4.00                     1.00                3.00                 13.00                 0.00         7.46\n",
       "75%    2670.00                1.00                95.00                 7.0                         8.00                       8.00                   117.29           1.00                       2.00                      0.00                    1.00       6.00           2.00        13.00              3.00             4.00            1.00                 0.00             173.78                        5.00                     1.00                3.00                 15.00               174.00         7.89\n",
       "max    8793.75                1.00               493.00                19.0                        18.00                      10.00                  1645.60           1.00                      13.00                      3.00                    1.00       7.00           3.00        52.00              9.00            19.00            1.00                 1.00             564.20                       11.00                     3.00                5.00                 19.00              1600.00         9.08"
      ]
     },
     "execution_count": 630,
     "metadata": {},
     "output_type": "execute_result"
    }
   ],
   "source": [
    "# descriptive statistics \n",
    "apprentice_chef.describe(include = 'number').round(decimals = 2)"
   ]
  },
  {
   "cell_type": "markdown",
   "id": "523cbe93",
   "metadata": {},
   "source": [
    "Some other independent features appear skewed from descriptive statistics. An histogram will show more about the distribution"
   ]
  },
  {
   "cell_type": "code",
   "execution_count": 631,
   "id": "e490e20b",
   "metadata": {},
   "outputs": [
    {
     "data": {
      "image/png": "[encoded data removed]",
      "text/plain": [
       "<Figure size 432x288 with 1 Axes>"
      ]
     },
     "metadata": {
      "needs_background": "light"
     },
     "output_type": "display_data"
    }
   ],
   "source": [
    "# developing a histogram using HISTPLOT \n",
    "sns.histplot(data = apprentice_chef,\n",
    "          x       = 'TOTAL_MEALS_ORDERED',\n",
    "          kde     = True)\n",
    "\n",
    "\n",
    "# title and axis labels\n",
    "plt.title(label   = \"Original Distribution of Total Meal Ordered \")\n",
    "plt.xlabel(xlabel = \"Revenue\") # avoiding using dataset labels\n",
    "plt.ylabel(ylabel = \"Count\")\n",
    "\n",
    "# displaying the histogram\n",
    "plt.show()"
   ]
  },
  {
   "cell_type": "code",
   "execution_count": 632,
   "id": "98571b7e",
   "metadata": {},
   "outputs": [
    {
     "data": {
      "image/png": "[encoded data removed]",
      "text/plain": [
       "<Figure size 432x288 with 1 Axes>"
      ]
     },
     "metadata": {
      "needs_background": "light"
     },
     "output_type": "display_data"
    }
   ],
   "source": [
    "# developing a histogram using HISTPLOT \n",
    "sns.histplot(data = apprentice_chef,\n",
    "          x       = 'AVG_PREP_VID_TIME',\n",
    "          kde     = True)\n",
    "\n",
    "\n",
    "# title and axis labels\n",
    "plt.title(label   = \"Original Distribution of Avg_Prep_Vid_Time \")\n",
    "plt.xlabel(xlabel = \"Revenue\") # avoiding using dataset labels\n",
    "plt.ylabel(ylabel = \"Count\")\n",
    "\n",
    "# displaying the histogram\n",
    "plt.show()"
   ]
  },
  {
   "cell_type": "code",
   "execution_count": 633,
   "id": "cd2aac53",
   "metadata": {},
   "outputs": [
    {
     "data": {
      "image/png": "[encoded data removed]",
      "text/plain": [
       "<Figure size 432x288 with 1 Axes>"
      ]
     },
     "metadata": {
      "needs_background": "light"
     },
     "output_type": "display_data"
    }
   ],
   "source": [
    "# developing a histogram using HISTPLOT \n",
    "sns.histplot(data = apprentice_chef,\n",
    "          x       = 'AVG_TIME_PER_SITE_VISIT',\n",
    "          kde     = True)\n",
    "\n",
    "\n",
    "# title and axis labels\n",
    "plt.title(label   = \"Original Distribution of Avg Time per Time Visit \")\n",
    "plt.xlabel(xlabel = \"Revenue\") # avoiding using dataset labels\n",
    "plt.ylabel(ylabel = \"Count\")\n",
    "\n",
    "# displaying the histogram\n",
    "plt.show()"
   ]
  },
  {
   "cell_type": "code",
   "execution_count": 634,
   "id": "5be34305",
   "metadata": {},
   "outputs": [],
   "source": [
    "# log transforming skewed explanatory features\n",
    "apprentice_chef[\"LOG_AVG_PREP_VID_TIME\"] = np.log(apprentice_chef[\"AVG_PREP_VID_TIME\"])\n",
    "apprentice_chef[\"LOG_AVG_TIME_PER_SITE_VISIT\"] = np.log(apprentice_chef[\"AVG_TIME_PER_SITE_VISIT\"])\n",
    "apprentice_chef[\"LOG_TOTAL_MEALS_ORDERED\"] = np.log(apprentice_chef[\"TOTAL_MEALS_ORDERED\"])\n"
   ]
  },
  {
   "cell_type": "markdown",
   "id": "6da2beb8",
   "metadata": {},
   "source": [
    "Base Model using statsmodel"
   ]
  },
  {
   "cell_type": "code",
   "execution_count": 636,
   "id": "e5fdb2cf",
   "metadata": {},
   "outputs": [
    {
     "data": {
      "text/plain": [
       "REVENUE                    1.00\n",
       "AVG_PREP_VID_TIME          0.64\n",
       "AVG_TIME_PER_SITE_VISIT    0.14\n",
       "Name: REVENUE, dtype: float64"
      ]
     },
     "execution_count": 636,
     "metadata": {},
     "output_type": "execute_result"
    }
   ],
   "source": [
    "# creating a list of continuous features (including Revenue)\n",
    "apprentice_base = ['REVENUE', 'AVG_TIME_PER_SITE_VISIT', 'AVG_PREP_VID_TIME']\n",
    "\n",
    "\n",
    "\n",
    "# developing a correlation matrix based on continuous features\n",
    "apprentice_corr = apprentice_chef[apprentice_base].corr(method = 'pearson')\n",
    "\n",
    "\n",
    "# filtering the results to only show correlations with Sale_Price\n",
    "apprentice_corr.loc[ : , \"REVENUE\"].round(decimals = 2).sort_values(ascending = False)"
   ]
  },
  {
   "cell_type": "code",
   "execution_count": 637,
   "id": "7b8c02f4",
   "metadata": {},
   "outputs": [
    {
     "data": {
      "image/png": "[encoded data removed]",
      "text/plain": [
       "<Figure size 648x432 with 1 Axes>"
      ]
     },
     "metadata": {
      "needs_background": "light"
     },
     "output_type": "display_data"
    }
   ],
   "source": [
    "# scatter plot with the feature with the higher positive correlation\n",
    "# setting figure size\n",
    "fig, ax = plt.subplots(figsize = (9, 6))\n",
    "\n",
    "\n",
    "# developing a scatterplot\n",
    "sns.scatterplot(x    = \"AVG_PREP_VID_TIME\",\n",
    "                y    = \"REVENUE\",\n",
    "                data = housing)\n",
    "\n",
    "\n",
    "# SHOWing the results\n",
    "plt.show(block = True)"
   ]
  },
  {
   "cell_type": "markdown",
   "id": "d100aba4",
   "metadata": {},
   "source": [
    "Building a base model"
   ]
  },
  {
   "cell_type": "code",
   "execution_count": 638,
   "id": "59ec9ac0",
   "metadata": {},
   "outputs": [
    {
     "name": "stdout",
     "output_type": "stream",
     "text": [
      "                            OLS Regression Results                            \n",
      "==============================================================================\n",
      "Dep. Variable:                REVENUE   R-squared:                       0.416\n",
      "Model:                            OLS   Adj. R-squared:                  0.415\n",
      "Method:                 Least Squares   F-statistic:                     690.9\n",
      "Date:                Sun, 18 Sep 2022   Prob (F-statistic):          2.24e-227\n",
      "Time:                        01:24:19   Log-Likelihood:                -15933.\n",
      "No. Observations:                1946   AIC:                         3.187e+04\n",
      "Df Residuals:                    1943   BIC:                         3.189e+04\n",
      "Df Model:                           2                                         \n",
      "Covariance Type:            nonrobust                                         \n",
      "===========================================================================================\n",
      "                              coef    std err          t      P>|t|      [0.025      0.975]\n",
      "-------------------------------------------------------------------------------------------\n",
      "Intercept                 -90.0895     65.083     -1.384      0.166    -217.728      37.549\n",
      "AVG_PREP_VID_TIME          15.0691      0.416     36.227      0.000      14.253      15.885\n",
      "AVG_TIME_PER_SITE_VISIT    -0.7165      0.330     -2.172      0.030      -1.364      -0.069\n",
      "==============================================================================\n",
      "Omnibus:                      549.077   Durbin-Watson:                   1.975\n",
      "Prob(Omnibus):                  0.000   Jarque-Bera (JB):             4067.629\n",
      "Skew:                           1.121   Prob(JB):                         0.00\n",
      "Kurtosis:                       9.718   Cond. No.                         628.\n",
      "==============================================================================\n",
      "\n",
      "Notes:\n",
      "[1] Standard Errors assume that the covariance matrix of the errors is correctly specified.\n"
     ]
    }
   ],
   "source": [
    "# Step 1: INSTANTIATE a model object- \n",
    "lm_best = smf.ols(formula = \"\"\"REVENUE ~ AVG_PREP_VID_TIME + AVG_TIME_PER_SITE_VISIT\"\"\",\n",
    "                  data = housing)\n",
    "\n",
    "\n",
    "# Step 2: FIT the data into the model object\n",
    "results = lm_best.fit()\n",
    "\n",
    "\n",
    "# Step 3: analyze the SUMMARY output\n",
    "print(results.summary())"
   ]
  },
  {
   "cell_type": "markdown",
   "id": "5f64db94",
   "metadata": {},
   "source": [
    "R-squared is 41.6%. We need to include other numerical variables in our model."
   ]
  },
  {
   "cell_type": "code",
   "execution_count": 639,
   "id": "beb11303",
   "metadata": {},
   "outputs": [
    {
     "data": {
      "text/plain": [
       "REVENUE                        1.00\n",
       "AVG_PREP_VID_TIME              0.64\n",
       "MEDIAN_MEAL_RATING             0.61\n",
       "TOTAL_MEALS_ORDERED            0.60\n",
       "TOTAL_PHOTOS_VIEWED            0.47\n",
       "MASTER_CLASSES_ATTENDED        0.45\n",
       "AVG_MEALS_ORD_PER_CUSTOMER     0.44\n",
       "AVG_TIME_PER_SITE_VISIT        0.14\n",
       "CONTACTS_W_CUSTOMER_SERVICE    0.10\n",
       "PRODUCT_CATEGORIES_VIEWED      0.03\n",
       "PC_LOGINS                      0.02\n",
       "CANCELLATIONS_BEFORE_NOON      0.01\n",
       "TASTES_AND_PREFERENCES         0.01\n",
       "WEEKLY_PLAN                    0.01\n",
       "REFRIGERATED_LOCKER           -0.00\n",
       "CROSS_SELL_SUCCESS             0.00\n",
       "EARLY_DELIVERIES              -0.00\n",
       "PACKAGE_LOCKER                -0.01\n",
       "LATE_DELIVERIES               -0.01\n",
       "MOBILE_LOGINS                 -0.02\n",
       "CANCELLATIONS_AFTER_NOON      -0.04\n",
       "UNIQUE_MEALS_PURCH            -0.06\n",
       "AVG_CLICKS_PER_VISIT          -0.55\n",
       "Name: REVENUE, dtype: float64"
      ]
     },
     "execution_count": 639,
     "metadata": {},
     "output_type": "execute_result"
    }
   ],
   "source": [
    "#creating a list of numerical variables\n",
    "apprentice_all = ['REVENUE', 'AVG_TIME_PER_SITE_VISIT', 'AVG_PREP_VID_TIME', 'TOTAL_MEALS_ORDERED', 'UNIQUE_MEALS_PURCH', \n",
    "                  'CONTACTS_W_CUSTOMER_SERVICE', 'PRODUCT_CATEGORIES_VIEWED', 'CANCELLATIONS_BEFORE_NOON',\n",
    "                  'CANCELLATIONS_AFTER_NOON', 'TASTES_AND_PREFERENCES', 'PC_LOGINS', 'MOBILE_LOGINS', 'WEEKLY_PLAN',\n",
    "                  'EARLY_DELIVERIES', 'LATE_DELIVERIES', 'PACKAGE_LOCKER', 'REFRIGERATED_LOCKER', 'AVG_MEALS_ORD_PER_CUSTOMER',\n",
    "                  'MASTER_CLASSES_ATTENDED', 'MEDIAN_MEAL_RATING', 'AVG_CLICKS_PER_VISIT', 'TOTAL_PHOTOS_VIEWED', \n",
    "                  'CROSS_SELL_SUCCESS']\n",
    "\n",
    "# developing a correlation matrix based all numeric features\n",
    "apprenticeall_corr = apprentice_chef[apprentice_all].corr(method = 'pearson')\n",
    "\n",
    "\n",
    "# filtering the results to only show correlations with Revenue\n",
    "apprenticeall_corr.loc[ : , 'REVENUE'].round(decimals = 2).sort_values(ascending = False)"
   ]
  },
  {
   "cell_type": "markdown",
   "id": "3e091b63",
   "metadata": {},
   "source": [
    "Only variables with positive correlation will be used in the regression model"
   ]
  },
  {
   "cell_type": "code",
   "execution_count": 640,
   "id": "32c42032",
   "metadata": {},
   "outputs": [
    {
     "name": "stdout",
     "output_type": "stream",
     "text": [
      "                            OLS Regression Results                            \n",
      "==============================================================================\n",
      "Dep. Variable:                REVENUE   R-squared:                       0.620\n",
      "Model:                            OLS   Adj. R-squared:                  0.617\n",
      "Method:                 Least Squares   F-statistic:                     225.2\n",
      "Date:                Sun, 18 Sep 2022   Prob (F-statistic):               0.00\n",
      "Time:                        01:24:38   Log-Likelihood:                -15514.\n",
      "No. Observations:                1946   AIC:                         3.106e+04\n",
      "Df Residuals:                    1931   BIC:                         3.114e+04\n",
      "Df Model:                          14                                         \n",
      "Covariance Type:            nonrobust                                         \n",
      "===============================================================================================\n",
      "                                  coef    std err          t      P>|t|      [0.025      0.975]\n",
      "-----------------------------------------------------------------------------------------------\n",
      "Intercept                    -892.4600    183.074     -4.875      0.000   -1251.503    -533.417\n",
      "AVG_TIME_PER_SITE_VISIT        -1.0262      0.269     -3.816      0.000      -1.554      -0.499\n",
      "AVG_PREP_VID_TIME               9.5136      0.645     14.749      0.000       8.248      10.779\n",
      "TOTAL_MEALS_ORDERED             5.2036      0.358     14.553      0.000       4.502       5.905\n",
      "CONTACTS_W_CUSTOMER_SERVICE    42.3558      7.128      5.942      0.000      28.377      56.334\n",
      "PRODUCT_CATEGORIES_VIEWED       7.7399      5.264      1.470      0.142      -2.584      18.063\n",
      "CANCELLATIONS_BEFORE_NOON       0.9091     10.465      0.087      0.931     -19.615      21.434\n",
      "TASTES_AND_PREFERENCES         40.5636     35.587      1.140      0.255     -29.230     110.358\n",
      "PC_LOGINS                      17.9054     27.613      0.648      0.517     -36.248      72.059\n",
      "WEEKLY_PLAN                    -0.2773      1.181     -0.235      0.814      -2.594       2.039\n",
      "AVG_MEALS_ORD_PER_CUSTOMER    -98.3895     17.462     -5.635      0.000    -132.635     -64.144\n",
      "MASTER_CLASSES_ATTENDED       178.9192     29.144      6.139      0.000     121.762     236.077\n",
      "MEDIAN_MEAL_RATING            397.7302     26.050     15.268      0.000     346.642     448.819\n",
      "TOTAL_PHOTOS_VIEWED             0.7186      0.101      7.092      0.000       0.520       0.917\n",
      "CROSS_SELL_SUCCESS            -61.4729     34.856     -1.764      0.078    -129.832       6.887\n",
      "==============================================================================\n",
      "Omnibus:                      800.957   Durbin-Watson:                   2.019\n",
      "Prob(Omnibus):                  0.000   Jarque-Bera (JB):             9109.539\n",
      "Skew:                           1.612   Prob(JB):                         0.00\n",
      "Kurtosis:                      13.097   Cond. No.                     3.05e+03\n",
      "==============================================================================\n",
      "\n",
      "Notes:\n",
      "[1] Standard Errors assume that the covariance matrix of the errors is correctly specified.\n",
      "[2] The condition number is large, 3.05e+03. This might indicate that there are\n",
      "strong multicollinearity or other numerical problems.\n"
     ]
    }
   ],
   "source": [
    "# Step 1: INSTANTIATE a model object- statsmodel\n",
    "lm_best = smf.ols(formula = \"\"\"REVENUE ~  AVG_TIME_PER_SITE_VISIT + AVG_PREP_VID_TIME + TOTAL_MEALS_ORDERED + \n",
    "                  CONTACTS_W_CUSTOMER_SERVICE + PRODUCT_CATEGORIES_VIEWED + CANCELLATIONS_BEFORE_NOON + \n",
    "                  TASTES_AND_PREFERENCES + PC_LOGINS +  WEEKLY_PLAN + AVG_MEALS_ORD_PER_CUSTOMER + \n",
    "                  MASTER_CLASSES_ATTENDED + MEDIAN_MEAL_RATING + TOTAL_PHOTOS_VIEWED + CROSS_SELL_SUCCESS\"\"\",  \n",
    "                  data = apprentice_chef)\n",
    "\n",
    "\n",
    "# Step 2: FIT the data into the model object\n",
    "results = lm_best.fit()\n",
    "\n",
    "\n",
    "# Step 3: analyze the SUMMARY output\n",
    "print(results.summary())"
   ]
  },
  {
   "cell_type": "markdown",
   "id": "021f4d0b",
   "metadata": {},
   "source": [
    "We eliminate variables with p-values > 0.05 and also adjust for collinear variable."
   ]
  },
  {
   "cell_type": "code",
   "execution_count": 641,
   "id": "7968b622",
   "metadata": {},
   "outputs": [
    {
     "data": {
      "image/png": "[encoded data removed]",
      "text/plain": [
       "<Figure size 960x800 with 2 Axes>"
      ]
     },
     "metadata": {
      "needs_background": "light"
     },
     "output_type": "display_data"
    }
   ],
   "source": [
    "#running correlation with significant independent variables\n",
    "my_data = apprentice_chef[[\"AVG_TIME_PER_SITE_VISIT\", \"AVG_PREP_VID_TIME\", \"TOTAL_MEALS_ORDERED\", \"CONTACTS_W_CUSTOMER_SERVICE\", \n",
    "                \"AVG_MEALS_ORD_PER_CUSTOMER\", \"MASTER_CLASSES_ATTENDED\", \"MEDIAN_MEAL_RATING\", \"TOTAL_PHOTOS_VIEWED\", \"REVENUE\"]]\n",
    "my_data.corr().round(2)\n",
    "\n",
    "# Plot\n",
    "plt.figure(figsize=(12,10), dpi= 80)\n",
    "sns.heatmap(my_data.corr(), xticklabels=my_data.corr().columns, yticklabels=my_data.corr().columns, cmap='RdYlGn', center=0, annot=True)\n",
    "\n",
    "# Decorations\n",
    "plt.title('Correlogram of apprentice_chef', fontsize=22)\n",
    "plt.xticks(fontsize=12)\n",
    "plt.yticks(fontsize=12)\n",
    "plt.show()\n"
   ]
  },
  {
   "cell_type": "markdown",
   "id": "3595477e",
   "metadata": {},
   "source": [
    "AVG_MEALS_ORD_PER_CUSTOMER as a strong positive correlation to AVG_PREP_VID_TIME and as such one of these variables \n",
    "will be excluded from our model"
   ]
  },
  {
   "cell_type": "code",
   "execution_count": 642,
   "id": "7925bbc6",
   "metadata": {},
   "outputs": [
    {
     "name": "stdout",
     "output_type": "stream",
     "text": [
      "                            OLS Regression Results                            \n",
      "==============================================================================\n",
      "Dep. Variable:                REVENUE   R-squared:                       0.613\n",
      "Model:                            OLS   Adj. R-squared:                  0.611\n",
      "Method:                 Least Squares   F-statistic:                     437.7\n",
      "Date:                Sun, 18 Sep 2022   Prob (F-statistic):               0.00\n",
      "Time:                        01:25:04   Log-Likelihood:                -15533.\n",
      "No. Observations:                1946   AIC:                         3.108e+04\n",
      "Df Residuals:                    1938   BIC:                         3.113e+04\n",
      "Df Model:                           7                                         \n",
      "Covariance Type:            nonrobust                                         \n",
      "===============================================================================================\n",
      "                                  coef    std err          t      P>|t|      [0.025      0.975]\n",
      "-----------------------------------------------------------------------------------------------\n",
      "Intercept                    -847.3748     88.440     -9.581      0.000   -1020.821    -673.928\n",
      "AVG_TIME_PER_SITE_VISIT        -1.0507      0.270     -3.885      0.000      -1.581      -0.520\n",
      "AVG_PREP_VID_TIME               6.8423      0.436     15.677      0.000       5.986       7.698\n",
      "TOTAL_MEALS_ORDERED             5.2695      0.360     14.656      0.000       4.564       5.975\n",
      "CONTACTS_W_CUSTOMER_SERVICE    44.7530      7.152      6.258      0.000      30.727      58.778\n",
      "MASTER_CLASSES_ATTENDED       193.0983     29.188      6.616      0.000     135.855     250.342\n",
      "MEDIAN_MEAL_RATING            403.5900     26.225     15.390      0.000     352.159     455.021\n",
      "TOTAL_PHOTOS_VIEWED             0.7389      0.102      7.245      0.000       0.539       0.939\n",
      "==============================================================================\n",
      "Omnibus:                      813.026   Durbin-Watson:                   1.999\n",
      "Prob(Omnibus):                  0.000   Jarque-Bera (JB):             8544.641\n",
      "Skew:                           1.669   Prob(JB):                         0.00\n",
      "Kurtosis:                      12.708   Cond. No.                     1.47e+03\n",
      "==============================================================================\n",
      "\n",
      "Notes:\n",
      "[1] Standard Errors assume that the covariance matrix of the errors is correctly specified.\n",
      "[2] The condition number is large, 1.47e+03. This might indicate that there are\n",
      "strong multicollinearity or other numerical problems.\n"
     ]
    }
   ],
   "source": [
    "# Step 1: INSTANTIATE a model object\n",
    "lm_best = smf.ols(formula = \"\"\"REVENUE ~  AVG_TIME_PER_SITE_VISIT + AVG_PREP_VID_TIME + TOTAL_MEALS_ORDERED + \n",
    "                  CONTACTS_W_CUSTOMER_SERVICE + MASTER_CLASSES_ATTENDED + MEDIAN_MEAL_RATING + TOTAL_PHOTOS_VIEWED\"\"\",  \n",
    "                  data = apprentice_chef)\n",
    "\n",
    "\n",
    "# Step 2: FIT the data into the model object\n",
    "results = lm_best.fit()\n",
    "\n",
    "\n",
    "# Step 3: analyze the SUMMARY output\n",
    "print(results.summary())"
   ]
  },
  {
   "cell_type": "markdown",
   "id": "35f33243",
   "metadata": {},
   "source": [
    "Introducing log transformed variables"
   ]
  },
  {
   "cell_type": "code",
   "execution_count": 643,
   "id": "5d05cb64",
   "metadata": {},
   "outputs": [
    {
     "name": "stdout",
     "output_type": "stream",
     "text": [
      "                            OLS Regression Results                            \n",
      "==============================================================================\n",
      "Dep. Variable:            LOG_REVENUE   R-squared:                       0.683\n",
      "Model:                            OLS   Adj. R-squared:                  0.682\n",
      "Method:                 Least Squares   F-statistic:                     595.7\n",
      "Date:                Sun, 18 Sep 2022   Prob (F-statistic):               0.00\n",
      "Time:                        01:25:13   Log-Likelihood:                -246.49\n",
      "No. Observations:                1946   AIC:                             509.0\n",
      "Df Residuals:                    1938   BIC:                             553.6\n",
      "Df Model:                           7                                         \n",
      "Covariance Type:            nonrobust                                         \n",
      "===============================================================================================\n",
      "                                  coef    std err          t      P>|t|      [0.025      0.975]\n",
      "-----------------------------------------------------------------------------------------------\n",
      "Intercept                       4.1545      0.121     34.312      0.000       3.917       4.392\n",
      "LOG_AVG_TIME_PER_SITE_VISIT    -0.0984      0.013     -7.510      0.000      -0.124      -0.073\n",
      "LOG_AVG_PREP_VID_TIME           0.4341      0.027     16.375      0.000       0.382       0.486\n",
      "LOG_TOTAL_MEALS_ORDERED         0.2532      0.012     20.899      0.000       0.229       0.277\n",
      "CONTACTS_W_CUSTOMER_SERVICE     0.0150      0.003      4.999      0.000       0.009       0.021\n",
      "MASTER_CLASSES_ATTENDED         0.0782      0.011      6.900      0.000       0.056       0.100\n",
      "MEDIAN_MEAL_RATING              0.1636      0.011     15.414      0.000       0.143       0.184\n",
      "TOTAL_PHOTOS_VIEWED             0.0002   3.91e-05      5.554      0.000       0.000       0.000\n",
      "==============================================================================\n",
      "Omnibus:                      114.965   Durbin-Watson:                   2.077\n",
      "Prob(Omnibus):                  0.000   Jarque-Bera (JB):              476.169\n",
      "Skew:                           0.016   Prob(JB):                    3.99e-104\n",
      "Kurtosis:                       5.423   Cond. No.                     4.14e+03\n",
      "==============================================================================\n",
      "\n",
      "Notes:\n",
      "[1] Standard Errors assume that the covariance matrix of the errors is correctly specified.\n",
      "[2] The condition number is large, 4.14e+03. This might indicate that there are\n",
      "strong multicollinearity or other numerical problems.\n"
     ]
    }
   ],
   "source": [
    "# building a base model with a log transformed response variable\n",
    "lm_best = smf.ols(formula = \"\"\"LOG_REVENUE ~  LOG_AVG_TIME_PER_SITE_VISIT + LOG_AVG_PREP_VID_TIME + LOG_TOTAL_MEALS_ORDERED + \n",
    "                  CONTACTS_W_CUSTOMER_SERVICE + MASTER_CLASSES_ATTENDED + MEDIAN_MEAL_RATING + TOTAL_PHOTOS_VIEWED\"\"\",  \n",
    "                  data = apprentice_chef)\n",
    "\n",
    "\n",
    "# Step 2: FIT the data into the model object\n",
    "results = lm_best.fit()\n",
    "\n",
    "\n",
    "# Step 3: analyze the SUMMARY output\n",
    "print(results.summary())"
   ]
  },
  {
   "cell_type": "markdown",
   "id": "e47d5c04",
   "metadata": {},
   "source": [
    "Feature Engineering"
   ]
  },
  {
   "cell_type": "code",
   "execution_count": 644,
   "id": "238a53ea",
   "metadata": {
    "scrolled": true
   },
   "outputs": [
    {
     "data": {
      "text/plain": [
       "Text(0, 0.5, 'REVENUE')"
      ]
     },
     "execution_count": 644,
     "metadata": {},
     "output_type": "execute_result"
    },
    {
     "data": {
      "image/png": "[encoded data removed]",
      "text/plain": [
       "<Figure size 720x576 with 4 Axes>"
      ]
     },
     "metadata": {
      "needs_background": "light"
     },
     "output_type": "display_data"
    }
   ],
   "source": [
    "########################\n",
    "# Visual EDA (Scatterplots)\n",
    "########################\n",
    "\n",
    "# setting figure size\n",
    "fig, ax = plt.subplots(figsize = (10, 8))\n",
    "\n",
    "\n",
    "# developing a scatterplot\n",
    "plt.subplot(2, 2, 1)\n",
    "sns.scatterplot(x = apprentice_chef['AVG_PREP_VID_TIME'],\n",
    "                y = apprentice_chef['REVENUE'],\n",
    "                color = 'g')\n",
    "\n",
    "\n",
    "# adding labels but not adding title\n",
    "plt.xlabel(xlabel = 'AVG_PREP_VID_TIME')\n",
    "plt.ylabel(ylabel = 'REVENUE')\n",
    "\n",
    "\n",
    "########################\n",
    "\n",
    "\n",
    "# developing a scatterplot\n",
    "plt.subplot(2, 2, 2)\n",
    "sns.scatterplot(x = apprentice_chef['AVG_TIME_PER_SITE_VISIT'],\n",
    "                y = apprentice_chef['REVENUE'],\n",
    "                color = 'g')\n",
    "\n",
    "\n",
    "# adding labels but not adding title\n",
    "plt.xlabel(xlabel = 'AVG_TIME_PER_SITE_VISIT')\n",
    "plt.ylabel(ylabel = 'REVENUE')\n",
    "\n",
    "\n",
    "########################\n",
    "\n",
    "\n",
    "# developing a scatterplot\n",
    "plt.subplot(2, 2, 3)\n",
    "sns.scatterplot(x = apprentice_chef['TOTAL_MEALS_ORDERED'],\n",
    "                y = apprentice_chef['REVENUE'],\n",
    "                color = 'orange')\n",
    "\n",
    "\n",
    "# adding labels but not adding title\n",
    "plt.xlabel(xlabel = 'TOTAL_MEALS_ORDERED')\n",
    "plt.ylabel(ylabel = 'REVENUE')\n",
    "\n",
    "\n",
    "########################\n",
    "\n",
    "# developing a scatterplot\n",
    "plt.subplot(2, 2, 4)\n",
    "sns.scatterplot(x = apprentice_chef['CONTACTS_W_CUSTOMER_SERVICE'],\n",
    "                y = apprentice_chef['REVENUE'],\n",
    "                color = 'orange')\n",
    "\n",
    "\n",
    "# adding labels but not adding title\n",
    "plt.xlabel(xlabel = 'CONTACTS_W_CUSTOMER_SERVICE')\n",
    "plt.ylabel(ylabel = 'REVENUE')\n",
    "\n"
   ]
  },
  {
   "cell_type": "code",
   "execution_count": 645,
   "id": "5e96d0d0",
   "metadata": {},
   "outputs": [
    {
     "data": {
      "text/plain": [
       "Text(0, 0.5, 'REVENUE')"
      ]
     },
     "execution_count": 645,
     "metadata": {},
     "output_type": "execute_result"
    },
    {
     "data": {
      "image/png": "[encoded data removed]",
      "text/plain": [
       "<Figure size 720x576 with 3 Axes>"
      ]
     },
     "metadata": {
      "needs_background": "light"
     },
     "output_type": "display_data"
    }
   ],
   "source": [
    "########################\n",
    "# Visual EDA (Scatterplots)\n",
    "########################\n",
    "\n",
    "# setting figure size\n",
    "fig, ax = plt.subplots(figsize = (10, 8))\n",
    "########################\n",
    "\n",
    "# developing a scatterplot\n",
    "plt.subplot(3, 2, 1)\n",
    "sns.scatterplot(x = apprentice_chef['MASTER_CLASSES_ATTENDED'],\n",
    "                y = apprentice_chef['REVENUE'],\n",
    "                color = 'orange')\n",
    "\n",
    "\n",
    "# adding labels but not adding title\n",
    "plt.xlabel(xlabel = 'MASTER_CLASSES_ATTENDED')\n",
    "plt.ylabel(ylabel = 'REVENUE')\n",
    "\n",
    "########################\n",
    "\n",
    "# developing a scatterplot\n",
    "plt.subplot(3, 2, 2)\n",
    "sns.scatterplot(x = apprentice_chef['TOTAL_PHOTOS_VIEWED'],\n",
    "                y = apprentice_chef['REVENUE'],\n",
    "                color = 'orange')\n",
    "\n",
    "\n",
    "# adding labels but not adding title\n",
    "plt.xlabel(xlabel = 'TOTAL_PHOTOS_VIEWED')\n",
    "plt.ylabel(ylabel = 'REVENUE')\n",
    "\n",
    "\n",
    "########################\n",
    "\n",
    "# developing a scatterplot\n",
    "plt.subplot(3, 2, 3)\n",
    "sns.scatterplot(x = apprentice_chef['MEDIAN_MEAL_RATING'],\n",
    "                y = apprentice_chef['REVENUE'],\n",
    "                color = 'r')\n",
    "\n",
    "\n",
    "# adding labels but not adding title\n",
    "plt.xlabel(xlabel = 'MEDIAN_MEAL_RATING')\n",
    "plt.ylabel(ylabel = 'REVENUE')\n",
    "\n"
   ]
  },
  {
   "cell_type": "code",
   "execution_count": 646,
   "id": "94298eb6",
   "metadata": {},
   "outputs": [
    {
     "name": "stdout",
     "output_type": "stream",
     "text": [
      "1140\n",
      "932\n",
      "556\n"
     ]
    }
   ],
   "source": [
    "print(sum(apprentice_chef['TOTAL_PHOTOS_VIEWED']==0))\n",
    "print(sum(apprentice_chef['MASTER_CLASSES_ATTENDED']==0))\n",
    "print(sum(apprentice_chef['TASTES_AND_PREFERENCES']==0))"
   ]
  },
  {
   "cell_type": "code",
   "execution_count": 648,
   "id": "5509909e",
   "metadata": {},
   "outputs": [
    {
     "name": "stdout",
     "output_type": "stream",
     "text": [
      "\n",
      "                       No\t\tYes\n",
      "                     ---------------------\n",
      "Photos viewed       | 1140\t\t806\n",
      "Master Class        | 932\t\t1014\n",
      "Taste Pref.         | 556\t\t1390\n",
      "\n"
     ]
    }
   ],
   "source": [
    "# counting the number of zeroes for photos viewed, master class attended and taste & preferences\n",
    "photos_zeroes   = len(apprentice_chef['TOTAL_PHOTOS_VIEWED'][housing['TOTAL_PHOTOS_VIEWED']==0]) # Total_Photos_viewed\n",
    "mclasses_zeroes   = len(apprentice_chef['MASTER_CLASSES_ATTENDED'][housing['MASTER_CLASSES_ATTENDED']==0]) # Total_Photos_viewed\n",
    "tastes_zeroes   = len(apprentice_chef['TASTES_AND_PREFERENCES'][housing['TASTES_AND_PREFERENCES']==0]) # Total_Photos_viewed\n",
    "\n",
    "\n",
    "# printing a table of the results\n",
    "print(f\"\"\"\n",
    "                       No\\t\\tYes\n",
    "                     ---------------------\n",
    "Photos viewed       | {photos_zeroes}\\t\\t{len(apprentice_chef) - photos_zeroes}\n",
    "Master Class        | {mclasses_zeroes}\\t\\t{len(apprentice_chef) - mclasses_zeroes}\n",
    "Taste Pref.         | {tastes_zeroes}\\t\\t{len(apprentice_chef) - tastes_zeroes}\n",
    "\"\"\")"
   ]
  },
  {
   "cell_type": "markdown",
   "id": "4a5750c9",
   "metadata": {},
   "source": [
    "We can engineer flag features for all variables above since at least 100 observations are in the 'yes' and 'no' columns"
   ]
  },
  {
   "cell_type": "code",
   "execution_count": 649,
   "id": "b6cf2751",
   "metadata": {},
   "outputs": [],
   "source": [
    "# placeholder variables\n",
    "apprentice_chef['VIEWED_PHOTOS'] = 0\n",
    "apprentice_chef['ATTEND_MASTERCLASS'] = 0\n",
    "apprentice_chef['HAS_TASTE_PREF'] = 0\n",
    "\n",
    "\n",
    "for index, value in apprentice_chef.iterrows():\n",
    "    \n",
    "    # TOTAL_PHOTOS_VIEWED\n",
    "    if apprentice_chef.loc[index, \"TOTAL_PHOTOS_VIEWED\"] > 0:\n",
    "        apprentice_chef.loc[index, 'VIEWED_PHOTOS'] = 1\n",
    "        \n",
    "        \n",
    "    # ATTEND_MASTERCLASS\n",
    "    if apprentice_chef.loc[index, \"MASTER_CLASSES_ATTENDED\"] > 0:\n",
    "        apprentice_chef.loc[index, 'ATTEND_MASTERCLASS'] = 1\n",
    "        \n",
    "        \n",
    "    # TASTE & PREFERENCE\n",
    "    if apprentice_chef.loc[index, \"TASTES_AND_PREFERENCES\"] > 0:\n",
    "        apprentice_chef.loc[index, 'HAS_TASTE_PREF'] = 1\n",
    "        "
   ]
  },
  {
   "cell_type": "code",
   "execution_count": 650,
   "id": "6574d046",
   "metadata": {},
   "outputs": [
    {
     "data": {
      "text/html": [
       "<div>\n",
       "<style scoped>\n",
       "    .dataframe tbody tr th:only-of-type {\n",
       "        vertical-align: middle;\n",
       "    }\n",
       "\n",
       "    .dataframe tbody tr th {\n",
       "        vertical-align: top;\n",
       "    }\n",
       "\n",
       "    .dataframe thead th {\n",
       "        text-align: right;\n",
       "    }\n",
       "</style>\n",
       "<table border=\"1\" class=\"dataframe\">\n",
       "  <thead>\n",
       "    <tr style=\"text-align: right;\">\n",
       "      <th></th>\n",
       "      <th>VIEWED_PHOTOS</th>\n",
       "      <th>ATTEND_MASTERCLASS</th>\n",
       "      <th>HAS_TASTE_PREF</th>\n",
       "    </tr>\n",
       "  </thead>\n",
       "  <tbody>\n",
       "    <tr>\n",
       "      <th>0</th>\n",
       "      <td>0</td>\n",
       "      <td>0</td>\n",
       "      <td>1</td>\n",
       "    </tr>\n",
       "    <tr>\n",
       "      <th>1</th>\n",
       "      <td>1</td>\n",
       "      <td>0</td>\n",
       "      <td>1</td>\n",
       "    </tr>\n",
       "    <tr>\n",
       "      <th>2</th>\n",
       "      <td>0</td>\n",
       "      <td>0</td>\n",
       "      <td>1</td>\n",
       "    </tr>\n",
       "    <tr>\n",
       "      <th>3</th>\n",
       "      <td>0</td>\n",
       "      <td>0</td>\n",
       "      <td>1</td>\n",
       "    </tr>\n",
       "    <tr>\n",
       "      <th>4</th>\n",
       "      <td>1</td>\n",
       "      <td>1</td>\n",
       "      <td>0</td>\n",
       "    </tr>\n",
       "  </tbody>\n",
       "</table>\n",
       "</div>"
      ],
      "text/plain": [
       "   VIEWED_PHOTOS  ATTEND_MASTERCLASS  HAS_TASTE_PREF\n",
       "0              0                   0               1\n",
       "1              1                   0               1\n",
       "2              0                   0               1\n",
       "3              0                   0               1\n",
       "4              1                   1               0"
      ]
     },
     "execution_count": 650,
     "metadata": {},
     "output_type": "execute_result"
    }
   ],
   "source": [
    "# checking results\n",
    "apprentice_chef[  ['VIEWED_PHOTOS', 'ATTEND_MASTERCLASS', 'HAS_TASTE_PREF']  ].head(n = 5)"
   ]
  },
  {
   "cell_type": "code",
   "execution_count": 651,
   "id": "354b8fa3",
   "metadata": {},
   "outputs": [
    {
     "data": {
      "text/plain": [
       "ATTEND_MASTERCLASS    0.453022\n",
       "VIEWED_PHOTOS         0.372072\n",
       "HAS_TASTE_PREF        0.007847\n",
       "Name: REVENUE, dtype: float64"
      ]
     },
     "execution_count": 651,
     "metadata": {},
     "output_type": "execute_result"
    }
   ],
   "source": [
    "# developing a small correlation matrix\n",
    "zeroes_corr = apprentice_chef.corr()    # .round(decimals = 2)\n",
    "\n",
    "\n",
    "# checking the correlations of the newly-created variables with Sale_Price\n",
    "zeroes_corr.loc['REVENUE',                   # Y-variable\n",
    "               ['VIEWED_PHOTOS', 'ATTEND_MASTERCLASS',    # X-variables\n",
    "                'HAS_TASTE_PREF']] \\\n",
    "                .sort_values(ascending = False)"
   ]
  },
  {
   "cell_type": "markdown",
   "id": "bdaf00c4",
   "metadata": {},
   "source": [
    "Features Engineering with Interval and Count Data"
   ]
  },
  {
   "cell_type": "code",
   "execution_count": 652,
   "id": "98dd5787",
   "metadata": {},
   "outputs": [
    {
     "data": {
      "image/png": "[encoded data removed]",
      "text/plain": [
       "<Figure size 432x288 with 1 Axes>"
      ]
     },
     "metadata": {
      "needs_background": "light"
     },
     "output_type": "display_data"
    }
   ],
   "source": [
    "# developing a scatterplot\n",
    "sns.boxplot(x    = 'UNIQUE_MEALS_PURCH',\n",
    "                y    = 'REVENUE',\n",
    "                data = apprentice_chef)\n",
    "\n",
    "\n",
    "# titles and axis labels\n",
    "plt.title(label   = 'Boxplot with Interval Data')\n",
    "plt.xlabel(xlabel = 'Unique Meals Ordered')\n",
    "plt.ylabel(ylabel = 'Revenue')\n",
    "\n",
    "\n",
    "# displaying the plot\n",
    "plt.show()"
   ]
  },
  {
   "cell_type": "markdown",
   "id": "d87f01e2",
   "metadata": {},
   "source": [
    "No significant relationship to Revenue until the 10th unique order is made."
   ]
  },
  {
   "cell_type": "code",
   "execution_count": 653,
   "id": "d79e64c5",
   "metadata": {},
   "outputs": [
    {
     "data": {
      "image/png": "[encoded data removed]",
      "text/plain": [
       "<Figure size 432x288 with 1 Axes>"
      ]
     },
     "metadata": {
      "needs_background": "light"
     },
     "output_type": "display_data"
    }
   ],
   "source": [
    "# developing a scatterplot\n",
    "sns.boxplot(x    = 'CONTACTS_W_CUSTOMER_SERVICE',\n",
    "                y    = 'REVENUE',\n",
    "                data = apprentice_chef)\n",
    "\n",
    "\n",
    "# titles and axis labels\n",
    "plt.title(label   = 'Boxplot with Interval Data')\n",
    "plt.xlabel(xlabel = 'Contact with Customer Service')\n",
    "plt.ylabel(ylabel = 'Revenue')\n",
    "\n",
    "\n",
    "# displaying the plot\n",
    "plt.show()"
   ]
  },
  {
   "cell_type": "markdown",
   "id": "13d0f7eb",
   "metadata": {},
   "source": [
    "Majority of contact with customer service is complaint related. The above shows that after 10 contacts, the Revenue drops \n",
    "remarkably."
   ]
  },
  {
   "cell_type": "code",
   "execution_count": 654,
   "id": "65b43dce",
   "metadata": {},
   "outputs": [
    {
     "data": {
      "image/png": "[encoded data removed]",
      "text/plain": [
       "<Figure size 432x288 with 1 Axes>"
      ]
     },
     "metadata": {
      "needs_background": "light"
     },
     "output_type": "display_data"
    }
   ],
   "source": [
    "# developing a scatterplot\n",
    "sns.boxplot(x    = 'MASTER_CLASSES_ATTENDED',\n",
    "                y    = 'REVENUE',\n",
    "                data = apprentice_chef)\n",
    "\n",
    "\n",
    "# titles and axis labels\n",
    "plt.title(label   = 'Boxplot with Interval Data')\n",
    "plt.xlabel(xlabel = 'Master classes attended')\n",
    "plt.ylabel(ylabel = 'Revenue')\n",
    "\n",
    "\n",
    "# displaying the plot\n",
    "plt.show()\n"
   ]
  },
  {
   "cell_type": "markdown",
   "id": "7a4439e4",
   "metadata": {},
   "source": [
    "Also, the effect of master class attendance on Revenue drops after 2 classes."
   ]
  },
  {
   "cell_type": "code",
   "execution_count": 655,
   "id": "9e521867",
   "metadata": {},
   "outputs": [
    {
     "data": {
      "image/png": "[encoded data removed]",
      "text/plain": [
       "<Figure size 432x288 with 1 Axes>"
      ]
     },
     "metadata": {
      "needs_background": "light"
     },
     "output_type": "display_data"
    }
   ],
   "source": [
    "# developing a scatterplot\n",
    "sns.boxplot(x    = 'MEDIAN_MEAL_RATING',\n",
    "                y    = 'REVENUE',\n",
    "                data = apprentice_chef)\n",
    "\n",
    "\n",
    "# titles and axis labels\n",
    "plt.title(label   = 'Boxplot with Interval Data')\n",
    "plt.xlabel(xlabel = 'MEDIAN_MEAL_RATING')\n",
    "plt.ylabel(ylabel = 'Revenue')\n",
    "\n",
    "\n",
    "# displaying the plot\n",
    "plt.show()\n"
   ]
  },
  {
   "cell_type": "code",
   "execution_count": 656,
   "id": "acf45417",
   "metadata": {},
   "outputs": [],
   "source": [
    "# creating new independent variable - avg meal rating per meal order\n",
    "apprentice_chef['AVG_MEAL_RATING_PER_MEAL_ORDER'] = apprentice_chef['MEDIAN_MEAL_RATING']/apprentice_chef['TOTAL_MEALS_ORDERED']"
   ]
  },
  {
   "cell_type": "code",
   "execution_count": 657,
   "id": "d0e5f533",
   "metadata": {},
   "outputs": [
    {
     "name": "stdout",
     "output_type": "stream",
     "text": [
      "REVENUE                           1.00\n",
      "LOG_REVENUE                       0.95\n",
      "AVG_PREP_VID_TIME                 0.64\n",
      "LOG_AVG_PREP_VID_TIME             0.63\n",
      "MEDIAN_MEAL_RATING                0.61\n",
      "LOG_TOTAL_MEALS_ORDERED           0.61\n",
      "TOTAL_MEALS_ORDERED               0.60\n",
      "TOTAL_PHOTOS_VIEWED               0.47\n",
      "MASTER_CLASSES_ATTENDED           0.45\n",
      "ATTEND_MASTERCLASS                0.45\n",
      "AVG_MEALS_ORD_PER_CUSTOMER        0.44\n",
      "VIEWED_PHOTOS                     0.37\n",
      "LOG_AVG_TIME_PER_SITE_VISIT       0.15\n",
      "AVG_TIME_PER_SITE_VISIT           0.14\n",
      "CONTACTS_W_CUSTOMER_SERVICE       0.10\n",
      "MOBILE_NUMBER                     0.03\n",
      "PRODUCT_CATEGORIES_VIEWED         0.03\n",
      "PC_LOGINS                         0.02\n",
      "HAS_TASTE_PREF                    0.01\n",
      "TASTES_AND_PREFERENCES            0.01\n",
      "CANCELLATIONS_BEFORE_NOON         0.01\n",
      "WEEKLY_PLAN                       0.01\n",
      "EARLY_DELIVERIES                 -0.00\n",
      "CROSS_SELL_SUCCESS                0.00\n",
      "REFRIGERATED_LOCKER              -0.00\n",
      "PACKAGE_LOCKER                   -0.01\n",
      "LATE_DELIVERIES                  -0.01\n",
      "MOBILE_LOGINS                    -0.02\n",
      "CANCELLATIONS_AFTER_NOON         -0.04\n",
      "UNIQUE_MEALS_PURCH               -0.06\n",
      "AVG_MEAL_RATING_PER_MEAL_ORDER   -0.41\n",
      "AVG_CLICKS_PER_VISIT             -0.55\n",
      "Name: REVENUE, dtype: float64\n"
     ]
    }
   ],
   "source": [
    "# creating a (Pearson) correlation matrix\n",
    "apprenticec_corr = apprentice_chef.corr().round(2)\n",
    "\n",
    "\n",
    "# printing (Pearson) correlations with SalePrice\n",
    "print(apprenticec_corr.loc['REVENUE'].sort_values(ascending = False))"
   ]
  },
  {
   "cell_type": "code",
   "execution_count": 658,
   "id": "a861ce14",
   "metadata": {},
   "outputs": [
    {
     "name": "stdout",
     "output_type": "stream",
     "text": [
      "CROSS_SELL_SUCCESS + \n",
      "TOTAL_MEALS_ORDERED + \n",
      "UNIQUE_MEALS_PURCH + \n",
      "CONTACTS_W_CUSTOMER_SERVICE + \n",
      "PRODUCT_CATEGORIES_VIEWED + \n",
      "AVG_TIME_PER_SITE_VISIT + \n",
      "MOBILE_NUMBER + \n",
      "CANCELLATIONS_BEFORE_NOON + \n",
      "CANCELLATIONS_AFTER_NOON + \n",
      "TASTES_AND_PREFERENCES + \n",
      "PC_LOGINS + \n",
      "MOBILE_LOGINS + \n",
      "WEEKLY_PLAN + \n",
      "EARLY_DELIVERIES + \n",
      "LATE_DELIVERIES + \n",
      "PACKAGE_LOCKER + \n",
      "REFRIGERATED_LOCKER + \n",
      "AVG_PREP_VID_TIME + \n",
      "MASTER_CLASSES_ATTENDED + \n",
      "MEDIAN_MEAL_RATING + \n",
      "AVG_CLICKS_PER_VISIT + \n",
      "TOTAL_PHOTOS_VIEWED + \n",
      "VIEWED_PHOTOS + \n",
      "ATTEND_MASTERCLASS + \n",
      "HAS_TASTE_PREF + \n",
      "AVG_MEAL_RATING_PER_MEAL_ORDER + \n"
     ]
    }
   ],
   "source": [
    "# making a copy of apprentice\n",
    "apprentice_chef_explanatory = apprentice_chef.copy()\n",
    "\n",
    "\n",
    "# dropping Revenue, collinear variables and others from the explanatory variable set\n",
    "apprentice_chef_explanatory = apprentice_chef_explanatory.drop(['REVENUE',\n",
    "                                                                'LOG_REVENUE',\n",
    "                                                                'LOG_AVG_PREP_VID_TIME', \n",
    "                                                                'LOG_AVG_TIME_PER_SITE_VISIT', \n",
    "                                                                'LOG_TOTAL_MEALS_ORDERED', \n",
    "                                                                'AVG_MEALS_ORD_PER_CUSTOMER',\n",
    "                                                                'NAME',     \n",
    "                                                                'EMAIL', \n",
    "                                                                'FIRST_NAME',  \n",
    "                                                                'FAMILY_NAME'                              \n",
    "                                                                 ], axis = 1)\n",
    "\n",
    "\n",
    "# formatting each explanatory variable for statsmodels\n",
    "for val in apprentice_chef_explanatory:\n",
    "   print(f\"{val} + \")"
   ]
  },
  {
   "cell_type": "code",
   "execution_count": 659,
   "id": "b822366c",
   "metadata": {},
   "outputs": [
    {
     "name": "stdout",
     "output_type": "stream",
     "text": [
      "                            OLS Regression Results                            \n",
      "==============================================================================\n",
      "Dep. Variable:                REVENUE   R-squared:                       0.657\n",
      "Model:                            OLS   Adj. R-squared:                  0.653\n",
      "Method:                 Least Squares   F-statistic:                     147.2\n",
      "Date:                Sun, 18 Sep 2022   Prob (F-statistic):               0.00\n",
      "Time:                        01:28:37   Log-Likelihood:                -15414.\n",
      "No. Observations:                1946   AIC:                         3.088e+04\n",
      "Df Residuals:                    1920   BIC:                         3.102e+04\n",
      "Df Model:                          25                                         \n",
      "Covariance Type:            nonrobust                                         \n",
      "==================================================================================================\n",
      "                                     coef    std err          t      P>|t|      [0.025      0.975]\n",
      "--------------------------------------------------------------------------------------------------\n",
      "Intercept                       -297.1629    334.672     -0.888      0.375    -953.522     359.197\n",
      "CROSS_SELL_SUCCESS               -86.2778     33.615     -2.567      0.010    -152.204     -20.352\n",
      "TOTAL_MEALS_ORDERED                2.5494      0.450      5.667      0.000       1.667       3.432\n",
      "UNIQUE_MEALS_PURCH               -59.1147      6.259     -9.445      0.000     -71.389     -46.840\n",
      "CONTACTS_W_CUSTOMER_SERVICE      102.0657      8.319     12.269      0.000      85.751     118.380\n",
      "PRODUCT_CATEGORIES_VIEWED          7.5381      5.034      1.498      0.134      -2.334      17.410\n",
      "AVG_TIME_PER_SITE_VISIT           -0.5650      0.260     -2.175      0.030      -1.074      -0.056\n",
      "MOBILE_NUMBER                     25.6895     47.021      0.546      0.585     -66.528     117.906\n",
      "CANCELLATIONS_BEFORE_NOON          8.1415     10.036      0.811      0.417     -11.541      27.824\n",
      "CANCELLATIONS_AFTER_NOON         -50.0247     35.479     -1.410      0.159    -119.607      19.557\n",
      "TASTES_AND_PREFERENCES            24.4372     17.000      1.437      0.151      -8.904      57.778\n",
      "PC_LOGINS                          4.0314     26.363      0.153      0.878     -47.672      55.735\n",
      "MOBILE_LOGINS                    -30.1040     29.084     -1.035      0.301     -87.143      26.935\n",
      "WEEKLY_PLAN                       -0.1540      1.128     -0.136      0.891      -2.367       2.059\n",
      "EARLY_DELIVERIES                   3.1643      6.594      0.480      0.631      -9.768      16.097\n",
      "LATE_DELIVERIES                    4.4557      5.572      0.800      0.424      -6.472      15.383\n",
      "PACKAGE_LOCKER                   -36.3414     36.506     -0.995      0.320    -107.937      35.254\n",
      "REFRIGERATED_LOCKER                6.1314     55.215      0.111      0.912    -102.157     114.420\n",
      "AVG_PREP_VID_TIME                  5.7652      0.428     13.475      0.000       4.926       6.604\n",
      "MASTER_CLASSES_ATTENDED          166.0456     56.829      2.922      0.004      54.592     277.499\n",
      "MEDIAN_MEAL_RATING               477.7569     43.176     11.065      0.000     393.079     562.435\n",
      "AVG_CLICKS_PER_VISIT             -10.7181     12.810     -0.837      0.403     -35.841      14.405\n",
      "TOTAL_PHOTOS_VIEWED                0.7466      0.127      5.890      0.000       0.498       0.995\n",
      "VIEWED_PHOTOS                    -39.6068     45.014     -0.880      0.379    -127.888      48.675\n",
      "ATTEND_MASTERCLASS                -9.4538     72.985     -0.130      0.897    -152.591     133.684\n",
      "HAS_TASTE_PREF                    24.4372     17.000      1.437      0.151      -8.904      57.778\n",
      "AVG_MEAL_RATING_PER_MEAL_ORDER -7056.0913    631.811    -11.168      0.000   -8295.199   -5816.983\n",
      "==============================================================================\n",
      "Omnibus:                      716.178   Durbin-Watson:                   2.001\n",
      "Prob(Omnibus):                  0.000   Jarque-Bera (JB):             7874.029\n",
      "Skew:                           1.408   Prob(JB):                         0.00\n",
      "Kurtosis:                      12.444   Cond. No.                     1.18e+16\n",
      "==============================================================================\n",
      "\n",
      "Notes:\n",
      "[1] Standard Errors assume that the covariance matrix of the errors is correctly specified.\n",
      "[2] The smallest eigenvalue is 9.71e-25. This might indicate that there are\n",
      "strong multicollinearity problems or that the design matrix is singular.\n"
     ]
    }
   ],
   "source": [
    "lm_full = smf.ols(formula = \"\"\" REVENUE ~  CROSS_SELL_SUCCESS + \n",
    "                                TOTAL_MEALS_ORDERED + \n",
    "                                UNIQUE_MEALS_PURCH + \n",
    "                                CONTACTS_W_CUSTOMER_SERVICE + \n",
    "                                PRODUCT_CATEGORIES_VIEWED + \n",
    "                                AVG_TIME_PER_SITE_VISIT + \n",
    "                                MOBILE_NUMBER + \n",
    "                                CANCELLATIONS_BEFORE_NOON + \n",
    "                                CANCELLATIONS_AFTER_NOON + \n",
    "                                TASTES_AND_PREFERENCES + \n",
    "                                PC_LOGINS + \n",
    "                                MOBILE_LOGINS + \n",
    "                                WEEKLY_PLAN + \n",
    "                                EARLY_DELIVERIES + \n",
    "                                LATE_DELIVERIES + \n",
    "                                PACKAGE_LOCKER + \n",
    "                                REFRIGERATED_LOCKER + \n",
    "                                AVG_PREP_VID_TIME + \n",
    "                                MASTER_CLASSES_ATTENDED + \n",
    "                                MEDIAN_MEAL_RATING + \n",
    "                                AVG_CLICKS_PER_VISIT + \n",
    "                                TOTAL_PHOTOS_VIEWED + \n",
    "                                VIEWED_PHOTOS + \n",
    "                                ATTEND_MASTERCLASS + \n",
    "                                HAS_TASTE_PREF + \n",
    "                                AVG_MEAL_RATING_PER_MEAL_ORDER\"\"\", \n",
    "                               data = apprentice_chef)\n",
    "\n",
    "\n",
    "# Step 2: FIT the data into the model object\n",
    "results = lm_full.fit()\n",
    "\n",
    "\n",
    "# Step 3: analyze the SUMMARY output\n",
    "print(results.summary())"
   ]
  },
  {
   "cell_type": "markdown",
   "id": "9a744bea",
   "metadata": {},
   "source": [
    "Goals:\n",
    "\n",
    "High Adjusted R-square or \n",
    "\n",
    "All p-values in model < 0.05"
   ]
  },
  {
   "cell_type": "code",
   "execution_count": 661,
   "id": "161100d2",
   "metadata": {},
   "outputs": [
    {
     "name": "stdout",
     "output_type": "stream",
     "text": [
      "                            OLS Regression Results                            \n",
      "==============================================================================\n",
      "Dep. Variable:                REVENUE   R-squared:                       0.655\n",
      "Model:                            OLS   Adj. R-squared:                  0.653\n",
      "Method:                 Least Squares   F-statistic:                     367.3\n",
      "Date:                Sun, 18 Sep 2022   Prob (F-statistic):               0.00\n",
      "Time:                        01:29:05   Log-Likelihood:                -15420.\n",
      "No. Observations:                1946   AIC:                         3.086e+04\n",
      "Df Residuals:                    1935   BIC:                         3.092e+04\n",
      "Df Model:                          10                                         \n",
      "Covariance Type:            nonrobust                                         \n",
      "==================================================================================================\n",
      "                                     coef    std err          t      P>|t|      [0.025      0.975]\n",
      "--------------------------------------------------------------------------------------------------\n",
      "Intercept                       -461.0550     89.318     -5.162      0.000    -636.225    -285.885\n",
      "CROSS_SELL_SUCCESS               -72.2604     32.633     -2.214      0.027    -136.260      -8.261\n",
      "TOTAL_MEALS_ORDERED                2.5401      0.446      5.697      0.000       1.666       3.414\n",
      "UNIQUE_MEALS_PURCH               -58.7874      6.227     -9.440      0.000     -71.000     -46.575\n",
      "CONTACTS_W_CUSTOMER_SERVICE      102.1611      8.244     12.392      0.000      85.993     118.330\n",
      "AVG_TIME_PER_SITE_VISIT           -0.6034      0.258     -2.340      0.019      -1.109      -0.098\n",
      "AVG_PREP_VID_TIME                  5.8532      0.420     13.920      0.000       5.029       6.678\n",
      "MASTER_CLASSES_ATTENDED          158.6879     27.712      5.726      0.000     104.339     213.036\n",
      "MEDIAN_MEAL_RATING               502.1857     26.470     18.972      0.000     450.273     554.098\n",
      "TOTAL_PHOTOS_VIEWED                0.6793      0.096      7.048      0.000       0.490       0.868\n",
      "AVG_MEAL_RATING_PER_MEAL_ORDER -6992.5468    619.836    -11.281      0.000   -8208.162   -5776.931\n",
      "==============================================================================\n",
      "Omnibus:                      724.491   Durbin-Watson:                   2.004\n",
      "Prob(Omnibus):                  0.000   Jarque-Bera (JB):             7899.937\n",
      "Skew:                           1.431   Prob(JB):                         0.00\n",
      "Kurtosis:                      12.446   Cond. No.                     1.07e+04\n",
      "==============================================================================\n",
      "\n",
      "Notes:\n",
      "[1] Standard Errors assume that the covariance matrix of the errors is correctly specified.\n",
      "[2] The condition number is large, 1.07e+04. This might indicate that there are\n",
      "strong multicollinearity or other numerical problems.\n"
     ]
    }
   ],
   "source": [
    "lm_prune = smf.ols(formula = \"\"\"REVENUE ~  CROSS_SELL_SUCCESS + \n",
    "                                TOTAL_MEALS_ORDERED + \n",
    "                                UNIQUE_MEALS_PURCH + \n",
    "                                CONTACTS_W_CUSTOMER_SERVICE + \n",
    "                                AVG_TIME_PER_SITE_VISIT + \n",
    "                                AVG_PREP_VID_TIME + \n",
    "                                MASTER_CLASSES_ATTENDED + \n",
    "                                MEDIAN_MEAL_RATING + \n",
    "                                TOTAL_PHOTOS_VIEWED + \n",
    "                                AVG_MEAL_RATING_PER_MEAL_ORDER\"\"\", \n",
    "                               data = apprentice_chef)\n",
    "\n",
    "\n",
    "# Step 2: FIT the data into the model object\n",
    "results = lm_prune.fit()\n",
    "\n",
    "\n",
    "# Step 3: analyze the SUMMARY output\n",
    "print(results.summary())"
   ]
  },
  {
   "cell_type": "code",
   "execution_count": 662,
   "id": "5d877e72",
   "metadata": {},
   "outputs": [
    {
     "name": "stdout",
     "output_type": "stream",
     "text": [
      "                            OLS Regression Results                            \n",
      "==============================================================================\n",
      "Dep. Variable:            LOG_REVENUE   R-squared:                       0.716\n",
      "Model:                            OLS   Adj. R-squared:                  0.714\n",
      "Method:                 Least Squares   F-statistic:                     487.4\n",
      "Date:                Sun, 18 Sep 2022   Prob (F-statistic):               0.00\n",
      "Time:                        01:29:15   Log-Likelihood:                -139.15\n",
      "No. Observations:                1946   AIC:                             300.3\n",
      "Df Residuals:                    1935   BIC:                             361.6\n",
      "Df Model:                          10                                         \n",
      "Covariance Type:            nonrobust                                         \n",
      "==================================================================================================\n",
      "                                     coef    std err          t      P>|t|      [0.025      0.975]\n",
      "--------------------------------------------------------------------------------------------------\n",
      "Intercept                          5.0929      0.143     35.621      0.000       4.812       5.373\n",
      "CROSS_SELL_SUCCESS                -0.0292      0.013     -2.302      0.021      -0.054      -0.004\n",
      "LOG_AVG_PREP_VID_TIME              0.3888      0.025     15.309      0.000       0.339       0.439\n",
      "LOG_AVG_TIME_PER_SITE_VISIT       -0.0679      0.013     -5.350      0.000      -0.093      -0.043\n",
      "LOG_TOTAL_MEALS_ORDERED            0.0447      0.023      1.975      0.048       0.000       0.089\n",
      "UNIQUE_MEALS_PURCH                -0.0228      0.002     -9.387      0.000      -0.028      -0.018\n",
      "CONTACTS_W_CUSTOMER_SERVICE        0.0291      0.003      9.569      0.000       0.023       0.035\n",
      "MASTER_CLASSES_ATTENDED            0.0730      0.011      6.790      0.000       0.052       0.094\n",
      "MEDIAN_MEAL_RATING                 0.2576      0.013     19.372      0.000       0.231       0.284\n",
      "TOTAL_PHOTOS_VIEWED                0.0002   3.71e-05      5.300      0.000       0.000       0.000\n",
      "AVG_MEAL_RATING_PER_MEAL_ORDER    -4.0604      0.368    -11.029      0.000      -4.782      -3.338\n",
      "==============================================================================\n",
      "Omnibus:                       85.364   Durbin-Watson:                   2.066\n",
      "Prob(Omnibus):                  0.000   Jarque-Bera (JB):              252.584\n",
      "Skew:                          -0.129   Prob(JB):                     1.42e-55\n",
      "Kurtosis:                       4.746   Cond. No.                     1.35e+04\n",
      "==============================================================================\n",
      "\n",
      "Notes:\n",
      "[1] Standard Errors assume that the covariance matrix of the errors is correctly specified.\n",
      "[2] The condition number is large, 1.35e+04. This might indicate that there are\n",
      "strong multicollinearity or other numerical problems.\n"
     ]
    }
   ],
   "source": [
    "#Model using Log_Revenue and other logarithm transformed features\n",
    "\n",
    "lm_final = smf.ols(formula = \"\"\"LOG_REVENUE ~  CROSS_SELL_SUCCESS + \n",
    "                                LOG_AVG_PREP_VID_TIME + \n",
    "                                LOG_AVG_TIME_PER_SITE_VISIT + \n",
    "                                LOG_TOTAL_MEALS_ORDERED +\n",
    "                                UNIQUE_MEALS_PURCH + \n",
    "                                CONTACTS_W_CUSTOMER_SERVICE + \n",
    "                                MASTER_CLASSES_ATTENDED + \n",
    "                                MEDIAN_MEAL_RATING + \n",
    "                                TOTAL_PHOTOS_VIEWED + \n",
    "                                AVG_MEAL_RATING_PER_MEAL_ORDER\"\"\", \n",
    "                               data = apprentice_chef)\n",
    "\n",
    "\n",
    "# Step 2: FIT the data into the model object\n",
    "results = lm_final.fit()\n",
    "\n",
    "\n",
    "# Step 3: analyze the SUMMARY output\n",
    "print(results.summary())"
   ]
  },
  {
   "cell_type": "markdown",
   "id": "e17017df",
   "metadata": {},
   "source": [
    "R-squared is 71.6% and this is FINAL for our base model. "
   ]
  },
  {
   "cell_type": "markdown",
   "id": "7d43f458",
   "metadata": {},
   "source": [
    "A. Ordinary Least Squares Regression"
   ]
  },
  {
   "cell_type": "code",
   "execution_count": 663,
   "id": "e2a7a1c5",
   "metadata": {},
   "outputs": [],
   "source": [
    "# declaring set of x-variables - statsmodel variables\n",
    "x_variables = ['CROSS_SELL_SUCCESS', 'LOG_AVG_PREP_VID_TIME', 'LOG_AVG_TIME_PER_SITE_VISIT', 'LOG_TOTAL_MEALS_ORDERED',\n",
    "               'UNIQUE_MEALS_PURCH', 'CONTACTS_W_CUSTOMER_SERVICE', 'MASTER_CLASSES_ATTENDED', 'MEDIAN_MEAL_RATING', \n",
    "               'TOTAL_PHOTOS_VIEWED', 'AVG_MEAL_RATING_PER_MEAL_ORDER']\n",
    "\n",
    "# all x-variables\n",
    "x_full = ['CROSS_SELL_SUCCESS', 'TOTAL_MEALS_ORDERED', 'UNIQUE_MEALS_PURCH', 'CONTACTS_W_CUSTOMER_SERVICE', 'PRODUCT_CATEGORIES_VIEWED',\n",
    "          'AVG_TIME_PER_SITE_VISIT', 'MOBILE_NUMBER', 'CANCELLATIONS_BEFORE_NOON', 'CANCELLATIONS_AFTER_NOON', 'TASTES_AND_PREFERENCES',\n",
    "          'PC_LOGINS', 'MOBILE_LOGINS', 'WEEKLY_PLAN', 'EARLY_DELIVERIES', 'LATE_DELIVERIES', 'PACKAGE_LOCKER', 'REFRIGERATED_LOCKER',\n",
    "          'AVG_PREP_VID_TIME', 'AVG_MEALS_ORD_PER_CUSTOMER', 'MASTER_CLASSES_ATTENDED', 'MEDIAN_MEAL_RATING', 'AVG_CLICKS_PER_VISIT', 'TOTAL_PHOTOS_VIEWED']"
   ]
  },
  {
   "cell_type": "code",
   "execution_count": 665,
   "id": "09a53a6a",
   "metadata": {},
   "outputs": [],
   "source": [
    "# applying modelin scikit-learn\n",
    "\n",
    "# preparing x-variables from the OLS model\n",
    "x_data = apprentice_chef.loc[ : , x_variables ]\n",
    "\n",
    "\n",
    "# preparing response variable\n",
    "y_data = apprentice_chef.loc[ : , \"LOG_REVENUE\" ]\n",
    "\n",
    "\n",
    "###############################################\n",
    "## setting up more than one train-test split ##\n",
    "###############################################\n",
    "x_train, x_test, y_train, y_test = train_test_split(\n",
    "            x_data,         # x-variables \n",
    "            y_data,       # y-variable  \n",
    "            test_size    = 0.25,\n",
    "            random_state = 219)\n"
   ]
  },
  {
   "cell_type": "code",
   "execution_count": 666,
   "id": "391b0a11",
   "metadata": {},
   "outputs": [
    {
     "name": "stdout",
     "output_type": "stream",
     "text": [
      "Model Name:     OLS Regression \n",
      "Train_Score:    0.7126\n",
      "Test_Score:     0.7225\n",
      "Train-Test Gap: 0.0099\n",
      "\n",
      "Final Model\n",
      "\n",
      "\n"
     ]
    }
   ],
   "source": [
    "# Setting a model name\n",
    "model_name = \"OLS Regression\"\n",
    "\n",
    "\n",
    "# INSTANTIATING a model object \n",
    "model = sklearn.linear_model.LinearRegression()\n",
    "\n",
    "\n",
    "# FITTING to the training data\n",
    "model_fit = model.fit(x_train, y_train)\n",
    "\n",
    "\n",
    "# PREDICTING on new data\n",
    "model_pred = model.predict(x_test)\n",
    "\n",
    "\n",
    "# SCORING the results\n",
    "model_train_score = model.score(x_train, y_train).round(4) # using R-square\n",
    "model_test_score  = model.score(x_test, y_test).round(4)   # using R-square\n",
    "model_gap         = abs(model_train_score - model_test_score).round(4)\n",
    "\n",
    "\n",
    "# dynamically printing results\n",
    "OLS_Model =  f\"\"\"\\\n",
    "Model Name:     {model_name} \n",
    "Train_Score:    {model_train_score}\n",
    "Test_Score:     {model_test_score}\n",
    "Train-Test Gap: {model_gap}\n",
    "\n",
    "Final Model\n",
    "\n",
    "\"\"\"\n",
    "\n",
    "print(OLS_Model)"
   ]
  },
  {
   "cell_type": "markdown",
   "id": "9c5b6a2b",
   "metadata": {},
   "source": [
    "B. Lasso Regression"
   ]
  },
  {
   "cell_type": "code",
   "execution_count": 667,
   "id": "bddbb77a",
   "metadata": {},
   "outputs": [
    {
     "name": "stdout",
     "output_type": "stream",
     "text": [
      "Model Name:     Lasso\n",
      "Train_Score:    0.186\n",
      "Test_Score:     0.1841\n",
      "Train-Test Gap: 0.0019\n",
      "\n",
      "Final Model\n",
      "\n",
      "\n"
     ]
    }
   ],
   "source": [
    "# Setting a model name\n",
    "model_name = \"Lasso\"\n",
    "\n",
    "\n",
    "# INSTANTIATING a model object \n",
    "model = sklearn.linear_model.Lasso()\n",
    "\n",
    "\n",
    "# FITTING to the training data\n",
    "model_fit = model.fit(x_train, y_train)\n",
    "\n",
    "\n",
    "# PREDICTING on new data\n",
    "model_pred = model.predict(x_test)\n",
    "\n",
    "\n",
    "# SCORING the results\n",
    "model_train_score = model.score(x_train, y_train).round(4) # using R-square\n",
    "model_test_score  = model.score(x_test, y_test).round(4)   # using R-square\n",
    "model_gap         = abs(model_train_score - model_test_score).round(4)\n",
    "\n",
    "\n",
    "# dynamically printing results\n",
    "Lasso_Model =  f\"\"\"\\\n",
    "Model Name:     {model_name}\n",
    "Train_Score:    {model_train_score}\n",
    "Test_Score:     {model_test_score}\n",
    "Train-Test Gap: {model_gap}\n",
    "\n",
    "Final Model\n",
    "\n",
    "\"\"\"\n",
    "\n",
    "print(Lasso_Model)"
   ]
  },
  {
   "cell_type": "markdown",
   "id": "1926a302",
   "metadata": {},
   "source": [
    "C. Bayesian Automatic Relevance Determination (ARD)"
   ]
  },
  {
   "cell_type": "code",
   "execution_count": 668,
   "id": "140b5231",
   "metadata": {},
   "outputs": [
    {
     "name": "stdout",
     "output_type": "stream",
     "text": [
      "Model Name:     ARD Regression\n",
      "Train_Score:    0.7084\n",
      "Test_Score:     0.7187\n",
      "Train-Test Gap: 0.0103\n",
      "\n",
      "Final Model\n",
      "\n",
      "\n"
     ]
    }
   ],
   "source": [
    "# Setting a model name\n",
    "model_name = 'ARD Regression'\n",
    "\n",
    "\n",
    "# INSTANTIATING a model object \n",
    "model = sklearn.linear_model.ARDRegression()\n",
    "\n",
    "\n",
    "# FITTING to the training data\n",
    "model_fit = model.fit(x_train, y_train)\n",
    "\n",
    "\n",
    "# PREDICTING on new data\n",
    "model_pred = model.predict(x_test)\n",
    "\n",
    "\n",
    "# SCORING the results\n",
    "model_train_score = model.score(x_train, y_train).round(4) # using R-square\n",
    "model_test_score  = model.score(x_test, y_test).round(4)   # using R-square\n",
    "model_gap         = abs(model_train_score - model_test_score).round(4)\n",
    "\n",
    "\n",
    "# dynamically printing results\n",
    "ARD_Model =  f\"\"\"\\\n",
    "Model Name:     {model_name}\n",
    "Train_Score:    {model_train_score}\n",
    "Test_Score:     {model_test_score}\n",
    "Train-Test Gap: {model_gap}\n",
    "\n",
    "Final Model\n",
    "\n",
    "\"\"\"\n",
    "\n",
    "print(ARD_Model)"
   ]
  },
  {
   "cell_type": "markdown",
   "id": "f469614d",
   "metadata": {},
   "source": [
    "D. Regression Trees "
   ]
  },
  {
   "cell_type": "code",
   "execution_count": 669,
   "id": "b5d72506",
   "metadata": {},
   "outputs": [],
   "source": [
    "# loading user defined function for for CART output model\n",
    "\n",
    "########################################\n",
    "# plot_feature_importances\n",
    "########################################\n",
    "def plot_feature_importances(model, train, export = False):\n",
    "    \"\"\"\n",
    "    Plots the importance of features from a CART model.\n",
    "    \n",
    "    PARAMETERS\n",
    "    ----------\n",
    "    model  : CART model\n",
    "    train  : explanatory variable training data\n",
    "    export : whether or not to export as a .png image, default False\n",
    "    \"\"\"\n",
    "    \n",
    "    # declaring the number\n",
    "    n_features = x_train.shape[1]\n",
    "    \n",
    "    # setting plot window\n",
    "    fig, ax = plt.subplots(figsize=(12,9))\n",
    "    \n",
    "    plt.barh(range(n_features), model.feature_importances_, align='center')\n",
    "    plt.yticks(np.arange(n_features), train.columns)\n",
    "    plt.xlabel(\"Feature importance\")\n",
    "    plt.ylabel(\"Feature\")\n",
    "    \n",
    "    if export == True:\n",
    "        plt.savefig('Tree_Leaf_50_Feature_Importance.png')"
   ]
  },
  {
   "cell_type": "code",
   "execution_count": 670,
   "id": "84e84fbe",
   "metadata": {},
   "outputs": [
    {
     "name": "stdout",
     "output_type": "stream",
     "text": [
      "Model Name:     Regression Tree\n",
      "Train_Score:    0.698\n",
      "Test_Score:     0.6639\n",
      "Train-Test Gap: 0.0341\n",
      "\n",
      "Final Model\n",
      "\n",
      "\n"
     ]
    }
   ],
   "source": [
    "model_name = 'Regression Tree'\n",
    "\n",
    "# INSTANTIATING a model object - CHANGE THIS AS NEEDED\n",
    "model = DecisionTreeRegressor(max_depth        = 4,\n",
    "                              min_samples_leaf = 40,\n",
    "                              random_state     = 219)\n",
    "\n",
    "\n",
    "# FITTING to the training data\n",
    "model_fit = model.fit(x_train, y_train)\n",
    "\n",
    "\n",
    "# PREDICTING on new data\n",
    "model_pred = model.predict(x_test)\n",
    "\n",
    "\n",
    "# SCORING the results\n",
    "model_train_score = model.score(x_train, y_train).round(4) # using R-square\n",
    "model_test_score  = model.score(x_test, y_test).round(4)   # using R-square\n",
    "model_gap         = abs(model_train_score - model_test_score).round(4)\n",
    "\n",
    "\n",
    "# dynamically printing results\n",
    "Regression_Tree_Model =  f\"\"\"\\\n",
    "Model Name:     {model_name}\n",
    "Train_Score:    {model_train_score}\n",
    "Test_Score:     {model_test_score}\n",
    "Train-Test Gap: {model_gap}\n",
    "\n",
    "Final Model\n",
    "\n",
    "\"\"\"\n",
    "\n",
    "print(Regression_Tree_Model)"
   ]
  },
  {
   "cell_type": "markdown",
   "id": "ef3bc761",
   "metadata": {},
   "source": [
    "E. Random Forest"
   ]
  },
  {
   "cell_type": "code",
   "execution_count": 671,
   "id": "cee0095f",
   "metadata": {},
   "outputs": [
    {
     "name": "stdout",
     "output_type": "stream",
     "text": [
      "Model Name:     Random Forest\n",
      "Train_Score:    0.767\n",
      "Test_Score:     0.7595\n",
      "Train-Test Gap: 0.0075\n",
      "\n",
      "Final Model\n",
      "\n",
      "\n"
     ]
    }
   ],
   "source": [
    "# specifying a model name\n",
    "model_name = 'Random Forest'\n",
    "\n",
    "\n",
    "# INSTANTIATING a random forest model with pruned values\n",
    "model = RandomForestRegressor( n_estimators     = 100,\n",
    "                               criterion        = 'mse',\n",
    "                               max_depth        = 4,\n",
    "                               min_samples_leaf = 25,\n",
    "                               bootstrap        = True,\n",
    "                               warm_start       = False,\n",
    "                               random_state     = 219)\n",
    "\n",
    "\n",
    "# FITTING the training data\n",
    "model_fit = model.fit(x_train, y_train)\n",
    "\n",
    "\n",
    "# PREDICTING based on the testing set\n",
    "model_pred = model.predict(x_test)\n",
    "\n",
    "\n",
    "# SCORING the results\n",
    "model_train_score = model.score(x_train, y_train).round(4) # using R-square\n",
    "model_test_score  = model.score(x_test, y_test).round(4)   # using R-square\n",
    "model_gap         = abs(model_train_score - model_test_score).round(4)\n",
    "\n",
    "\n",
    "# dynamically printing results\n",
    "Random_Forest_Model =  f\"\"\"\\\n",
    "Model Name:     {model_name}\n",
    "Train_Score:    {model_train_score}\n",
    "Test_Score:     {model_test_score}\n",
    "Train-Test Gap: {model_gap}\n",
    "\n",
    "Final Model\n",
    "\n",
    "\"\"\"\n",
    "\n",
    "print(Random_Forest_Model)"
   ]
  },
  {
   "cell_type": "markdown",
   "id": "1edefd29",
   "metadata": {},
   "source": [
    "F. Gradient Boosting Machines (GBM)"
   ]
  },
  {
   "cell_type": "code",
   "execution_count": 672,
   "id": "921ab82b",
   "metadata": {},
   "outputs": [
    {
     "name": "stderr",
     "output_type": "stream",
     "text": [
      "C:\\ProgramData\\Anaconda3\\lib\\site-packages\\sklearn\\ensemble\\_gb.py:1630: FutureWarning: criterion='mae' was deprecated in version 0.24 and will be removed in version 1.1 (renaming of 0.26). The correct way of minimizing the absolute error is to use  loss='lad' instead.\n",
      "  warnings.warn(\"criterion='mae' was deprecated in version 0.24 and \"\n"
     ]
    },
    {
     "name": "stdout",
     "output_type": "stream",
     "text": [
      "Model Name:     GBM\n",
      "Train_Score:    0.8737\n",
      "Test_Score:     0.825\n",
      "Train-Test Gap: 0.0487\n",
      "\n",
      "Final Model\n",
      "\n",
      "\n"
     ]
    }
   ],
   "source": [
    "#INSTANTIATING the model object without hyperparameters\n",
    "# specifying a model name\n",
    "model_name = 'GBM'\n",
    "\n",
    "#INSTANTIATING the model object without hyperparameters\n",
    "model = GradientBoostingRegressor(loss          = 'ls',\n",
    "                                  learning_rate = 0.1,\n",
    "                                  n_estimators  = 100,\n",
    "                                  criterion     = 'mae',\n",
    "                                  max_depth     = 3,\n",
    "                                  warm_start    = False,\n",
    "                                  random_state  = 219)\n",
    "\n",
    "\n",
    " #FITTING the training data\n",
    "model_fit = model.fit(x_train, y_train)\n",
    "\n",
    "\n",
    "#PREDICTING based on the testing set\n",
    "model_pred = model.predict(x_test)\n",
    "\n",
    "\n",
    "#SCORING the results\n",
    "model_train_score = model.score(x_train, y_train).round(4) # using R-square\n",
    "model_test_score  = model.score(x_test, y_test).round(4)   # using R-square\n",
    "model_gap         = abs(model_train_score - model_test_score).round(4)\n",
    "\n",
    "\n",
    "# dynamically printing results\n",
    "GBM_Model =  f\"\"\"\\\n",
    "Model Name:     {model_name}\n",
    "Train_Score:    {model_train_score}\n",
    "Test_Score:     {model_test_score}\n",
    "Train-Test Gap: {model_gap}\n",
    "\n",
    "Final Model\n",
    "\n",
    "\"\"\"\n",
    "\n",
    "print(GBM_Model)"
   ]
  },
  {
   "cell_type": "markdown",
   "id": "5d3261ed",
   "metadata": {},
   "source": [
    "GBM produces the highest R-squared which better fits the data and returns a train/test gap below 0.05. "
   ]
  }
 ],
 "metadata": {
  "kernelspec": {
   "display_name": "Python 3 (ipykernel)",
   "language": "python",
   "name": "python3"
  },
  "language_info": {
   "codemirror_mode": {
    "name": "ipython",
    "version": 3
   },
   "file_extension": ".py",
   "mimetype": "text/x-python",
   "name": "python",
   "nbconvert_exporter": "python",
   "pygments_lexer": "ipython3",
   "version": "3.9.7"
  },
  "toc": {
   "base_numbering": 1,
   "nav_menu": {},
   "number_sections": true,
   "sideBar": true,
   "skip_h1_title": false,
   "title_cell": "Table of Contents",
   "title_sidebar": "Contents",
   "toc_cell": false,
   "toc_position": {},
   "toc_section_display": true,
   "toc_window_display": false
  },
  "varInspector": {
   "cols": {
    "lenName": 16,
    "lenType": 16,
    "lenVar": 40
   },
   "kernels_config": {
    "python": {
     "delete_cmd_postfix": "",
     "delete_cmd_prefix": "del ",
     "library": "var_list.py",
     "varRefreshCmd": "print(var_dic_list())"
    },
    "r": {
     "delete_cmd_postfix": ") ",
     "delete_cmd_prefix": "rm(",
     "library": "var_list.r",
     "varRefreshCmd": "cat(var_dic_list()) "
    }
   },
   "types_to_exclude": [
    "module",
    "function",
    "builtin_function_or_method",
    "instance",
    "_Feature"
   ],
   "window_display": false
  }
 },
 "nbformat": 4,
 "nbformat_minor": 5
}
